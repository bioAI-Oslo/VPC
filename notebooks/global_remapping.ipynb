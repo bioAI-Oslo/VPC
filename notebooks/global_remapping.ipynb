{
 "cells": [
  {
   "cell_type": "code",
   "execution_count": 1,
   "id": "26f9d467",
   "metadata": {},
   "outputs": [],
   "source": [
    "import sys\n",
    "sys.path.insert(0, \"../\")\n",
    "sys.path.insert(0, \"../dataset_generation/\")\n",
    "\n",
    "import json\n",
    "import torch\n",
    "import numpy as np\n",
    "import matplotlib\n",
    "import matplotlib.pyplot as plt\n",
    "plt.style.use(\"project_style.mplstyle\")\n",
    "\n",
    "import stats\n",
    "import scipy.stats\n",
    "from tqdm import tqdm\n",
    "import analysis_tools as tools"
   ]
  },
  {
   "cell_type": "markdown",
   "id": "3e5e8e0b",
   "metadata": {},
   "source": [
    "In this notebook, we will consider a trained model, and analyze whether the model performs remapping or not"
   ]
  },
  {
   "cell_type": "markdown",
   "id": "1766a18c",
   "metadata": {},
   "source": [
    "## Test dataset\n",
    "We verify that the model generalizes to unseen data by simply creating a new dataset. \n",
    "The dataset consists of three separate, 10k timestep trajectories in three environments.\n",
    "The environment sequence is square, walled square and a return to square, similar to the experiment performed by Fyhn et al. (2007)"
   ]
  },
  {
   "cell_type": "code",
   "execution_count": 2,
   "id": "f224f329-df6f-4396-9b8e-1c50e63e1947",
   "metadata": {},
   "outputs": [],
   "source": [
    "if trajectories := False:\n",
    "    model_type = \"RNN\"\n",
    "else:\n",
    "    model_type = \"FF\""
   ]
  },
  {
   "cell_type": "code",
   "execution_count": 3,
   "id": "738ff28e",
   "metadata": {},
   "outputs": [],
   "source": [
    "# load model and specs\n",
    "model_name = f\"../models/al1_10_l2_0\"\n",
    "path = f\"../models/{model_name}\"\n",
    "model, params = tools.load_model(path, device = \"cpu\", model_type = model_type)"
   ]
  },
  {
   "cell_type": "code",
   "execution_count": 4,
   "id": "fa821b63",
   "metadata": {},
   "outputs": [
    {
     "name": "stdout",
     "output_type": "stream",
     "text": [
      "Model Parameters: \n",
      " {\n",
      "     \"epochs\": 100,\n",
      "     \"batch_size\": 64,\n",
      "     \"lr\": 0.0001,\n",
      "     \"al1\": 10.0,\n",
      "     \"l2\": 0,\n",
      "     \"nodes\": 500,\n",
      "     \"outputs\": 100,\n",
      "     \"reset_interval\": 10,\n",
      "     \"context\": true\n",
      "}\n"
     ]
    }
   ],
   "source": [
    "print(\"Model Parameters: \\n\", json.dumps(params, indent = 5))"
   ]
  },
  {
   "cell_type": "code",
   "execution_count": 5,
   "id": "8d5a87d7-7285-4784-99d9-2da0fa008094",
   "metadata": {},
   "outputs": [],
   "source": [
    "sequence = [\"square\", \"walled_square\", \"square\"]\n",
    "bins = [[32,32] for i in range(len(sequence))] # all environments are symmetric"
   ]
  },
  {
   "cell_type": "code",
   "execution_count": 6,
   "id": "94b42066",
   "metadata": {},
   "outputs": [],
   "source": [
    "x, r, v, c = tools.test_dataset(sequence, 20000, \n",
    "                                context = params[\"context\"], \n",
    "                                device = \"cpu\",\n",
    "                                trajectories = trajectories)"
   ]
  },
  {
   "cell_type": "code",
   "execution_count": 7,
   "id": "169020a5",
   "metadata": {},
   "outputs": [],
   "source": [
    "dataset = [((x[0][i,None], x[1][i,None]), x[1][i,None]) for i in range(len(sequence))] # repackage\n",
    "gs, ps, centers, preds = model.inference(dataset)\n",
    "pred_error = np.linalg.norm(preds - r, axis = -1)\n",
    "mean_errors = np.mean(pred_error, axis = 1)[:,None]*np.ones((1,r.shape[1]))"
   ]
  },
  {
   "cell_type": "code",
   "execution_count": 8,
   "id": "7fd6b9a0",
   "metadata": {},
   "outputs": [],
   "source": [
    "burn_in = 500 # omit initial timesteps to avoid transition rates\n",
    "ps = ps[:,burn_in:]\n",
    "gs = gs[:,burn_in:]\n",
    "r = r[:,burn_in:]\n",
    "preds = preds[:,burn_in:]"
   ]
  },
  {
   "cell_type": "code",
   "execution_count": 9,
   "id": "6b510d5c",
   "metadata": {},
   "outputs": [],
   "source": [
    "p_ratemaps = stats.population_vector_ratemaps(ps, r, bins, smooth = True)\n",
    "g_ratemaps = stats.population_vector_ratemaps(gs, r, bins, smooth = False)"
   ]
  },
  {
   "cell_type": "markdown",
   "id": "1b5f6d95",
   "metadata": {},
   "source": [
    "### Ratemaps"
   ]
  },
  {
   "cell_type": "code",
   "execution_count": 10,
   "id": "248921d5",
   "metadata": {},
   "outputs": [
    {
     "data": {
      "image/png": "[encoded data removed]",
      "text/plain": [
       "<Figure size 144x180 with 20 Axes>"
      ]
     },
     "metadata": {
      "needs_background": "light"
     },
     "output_type": "display_data"
    }
   ],
   "source": [
    "max_rates = np.nanmax(p_ratemaps, axis = (0,-2, -1))\n",
    "tools.plot_sequence(p_ratemaps, show_units = 5, titles = max_rates,pane_size = 0.5);\n",
    "#plt.subplots_adjust(wspace = 0.1, hspace = 0.1)\n",
    "#plt.savefig(f\"./figures/{model_name}_global_remapping\")"
   ]
  },
  {
   "cell_type": "code",
   "execution_count": 11,
   "id": "99c95fb0",
   "metadata": {},
   "outputs": [
    {
     "data": {
      "image/png": "[encoded data removed]",
      "text/plain": [
       "<Figure size 144x360 with 40 Axes>"
      ]
     },
     "metadata": {
      "needs_background": "light"
     },
     "output_type": "display_data"
    }
   ],
   "source": [
    "max_rates = np.amax(g_ratemaps, axis = (0, -2,-1))\n",
    "mask = max_rates > 1e-6\n",
    "select_g = g_ratemaps[:, mask]\n",
    "tools.plot_sequence(select_g, show_units = 10, titles = max_rates[mask], pane_size = 0.5);\n",
    "#tools.plot_sequence(g_ratemaps, show_units = 10,pane_size = 0.5);\n",
    "\n",
    "plt.subplots_adjust(wspace = 0.1, hspace = 0.1)\n",
    "#plt.savefig(f\"./figures/{model_name}_global_remapping_rnn\")"
   ]
  },
  {
   "cell_type": "code",
   "execution_count": null,
   "id": "dfc1fbc4-aed9-41ed-ae9e-87f014ca1710",
   "metadata": {},
   "outputs": [],
   "source": []
  },
  {
   "cell_type": "markdown",
   "id": "7c8371a2",
   "metadata": {},
   "source": [
    "Now we can prepare to correlate the two environments. However, we need to filter out cells that are place-cell like from those that are not. In addition, we only correlate a square cross-section of the circle and square cross-section:"
   ]
  },
  {
   "cell_type": "code",
   "execution_count": 12,
   "id": "9e0669ce",
   "metadata": {},
   "outputs": [
    {
     "name": "stderr",
     "output_type": "stream",
     "text": [
      "/Users/m/Documents/jobb/phd/VPC/notebooks/stats.py:93: RuntimeWarning: divide by zero encountered in log2\n",
      "  spatial_information = np.nansum(occupancy*mean_bin_rate*np.log2(mean_bin_rate/mean_rate[:,None,None]), axis = (1, 2))\n",
      "/Users/m/Documents/jobb/phd/VPC/notebooks/stats.py:93: RuntimeWarning: invalid value encountered in multiply\n",
      "  spatial_information = np.nansum(occupancy*mean_bin_rate*np.log2(mean_bin_rate/mean_rate[:,None,None]), axis = (1, 2))\n"
     ]
    }
   ],
   "source": [
    "mask, info = tools.spatial_information_selection(ps, r, bins);"
   ]
  },
  {
   "cell_type": "code",
   "execution_count": 13,
   "id": "e115c2a3",
   "metadata": {},
   "outputs": [
    {
     "data": {
      "image/png": "[encoded data removed]",
      "text/plain": [
       "<Figure size 432x288 with 1 Axes>"
      ]
     },
     "metadata": {
      "needs_background": "light"
     },
     "output_type": "display_data"
    },
    {
     "data": {
      "image/png": "[encoded data removed]",
      "text/plain": [
       "<Figure size 432x288 with 1 Axes>"
      ]
     },
     "metadata": {
      "needs_background": "light"
     },
     "output_type": "display_data"
    }
   ],
   "source": [
    "plt.hist(info.T, stacked = True, bins = 32);\n",
    "plt.show()\n",
    "plt.plot(np.cumsum(np.sort(info/np.sum(info,axis=-1)[:,None],axis=-1), axis= -1).T)\n",
    "plt.show()"
   ]
  },
  {
   "cell_type": "code",
   "execution_count": 14,
   "id": "20959c6a",
   "metadata": {},
   "outputs": [
    {
     "name": "stdout",
     "output_type": "stream",
     "text": [
      "No. accepted cells: 78\n"
     ]
    }
   ],
   "source": [
    "print(\"No. accepted cells:\", np.sum(mask))"
   ]
  },
  {
   "cell_type": "code",
   "execution_count": 15,
   "id": "3a6effbc",
   "metadata": {},
   "outputs": [],
   "source": [
    "# Only accept cells with high spatial information in overlap region.\n",
    "accepted_maps = p_ratemaps[:, mask]"
   ]
  },
  {
   "cell_type": "code",
   "execution_count": 16,
   "id": "6dbcf4cb",
   "metadata": {},
   "outputs": [
    {
     "data": {
      "image/png": "[encoded data removed]",
      "text/plain": [
       "<Figure size 144x360 with 40 Axes>"
      ]
     },
     "metadata": {
      "needs_background": "light"
     },
     "output_type": "display_data"
    }
   ],
   "source": [
    "max_rates = np.amax(accepted_maps, axis = (0, -2, -1))\n",
    "tools.plot_sequence(accepted_maps, show_units = 10, titles = max_rates, pane_size = 0.5);\n",
    "plt.subplots_adjust(wspace = 0.1, hspace = 0.1)\n",
    "#plt.savefig(f\"./figures/{model_name}_global_remapping_high_spatial_information\")"
   ]
  },
  {
   "cell_type": "markdown",
   "id": "c529da62",
   "metadata": {},
   "source": [
    "### Statistics"
   ]
  },
  {
   "cell_type": "code",
   "execution_count": 17,
   "id": "a1a29d79",
   "metadata": {},
   "outputs": [],
   "source": [
    "# correlate initial environment with all others\n",
    "orientations = np.array([90*i for i in range(4)]) # Degrees 🔪\n",
    "corrs = np.zeros((len(sequence),len(orientations), accepted_maps.shape[1], accepted_maps.shape[1]))\n",
    "\n",
    "for i in range(len(sequence)):\n",
    "    # do correlation\n",
    "    for j in range(len(orientations)):\n",
    "        rotated_ratemaps = scipy.ndimage.rotate(accepted_maps[i], orientations[j], axes = (1, 2))\n",
    "        corrs[i,j] = stats.correlate_population_vectors_unitwise(accepted_maps[0], rotated_ratemaps)"
   ]
  },
  {
   "cell_type": "code",
   "execution_count": 18,
   "id": "9b608786-06fd-4b3b-9b61-f81bb4fe39c0",
   "metadata": {},
   "outputs": [
    {
     "name": "stdout",
     "output_type": "stream",
     "text": [
      "Maximal median correlation angles: [0 0 0] (3, 78)\n"
     ]
    }
   ],
   "source": [
    "self_correlation = np.diagonal(corrs, axis1 = 2, axis2 = 3)\n",
    "median_self_correlation = np.median(self_correlation, axis = -1)\n",
    "angle_inds = np.argmax(median_self_correlation, axis = 1)\n",
    "maximal_angle = orientations[angle_inds]\n",
    "\n",
    "# only keep angle that maximises median correlation\n",
    "self_correlation = self_correlation[np.arange(len(sequence)), angle_inds]\n",
    "median_self_correlation = median_self_correlation[np.arange(len(sequence)), angle_inds]\n",
    "mean_self_correlation = np.mean(self_correlation, axis = -1)\n",
    "corrs = corrs[np.arange(len(sequence)), angle_inds]\n",
    "\n",
    "print(f\"Maximal median correlation angles: {maximal_angle}\", self_correlation.shape)"
   ]
  },
  {
   "cell_type": "markdown",
   "id": "b0df1338",
   "metadata": {},
   "source": [
    "### Cell-to-cell ratemap correlation + Mann Whitney U test for significance. "
   ]
  },
  {
   "cell_type": "code",
   "execution_count": 19,
   "id": "bf7a3faf",
   "metadata": {},
   "outputs": [
    {
     "name": "stdout",
     "output_type": "stream",
     "text": [
      "\n",
      "\n",
      "\n",
      "P-values: 0.317%, 0.000%\n",
      "\n",
      "\n",
      "[1.62623452e-51 3.16500265e-03 1.62748632e-51]\n"
     ]
    }
   ],
   "source": [
    "# Only the upper triangular contributes to the test result\n",
    "triu_mask = np.ravel(np.triu(np.ones(corrs.shape[1:],dtype=\"bool\"), k = 1)) \n",
    "\n",
    "# and flatten to mask out correct entries\n",
    "flat_dist = np.reshape(corrs, (len(sequence), -1))\n",
    "distribution = flat_dist[:,triu_mask]\n",
    "\n",
    "median_correlations = np.median(np.amax(self_correlation, axis = 1), axis = -1)\n",
    "\n",
    "# finally, do MW-U to test significance.\n",
    "res, p_value = scipy.stats.mannwhitneyu(self_correlation, distribution, axis = -1, alternative = \"two-sided\")\n",
    "# test alternative hypothesis: whether self_correlation is greater than shuffled distribution\n",
    "\n",
    "#results_file.write(f\"\\n\\nMedian Correlations\\n{median_correlations}\\nU ={res}\\np={p_value}\\n\")\n",
    "print(f\"\\n\\n\\nP-values: {p_value[1]*100:.3f}%, {p_value[2]*100:.3f}%\\n\\n\")\n",
    "print(p_value)"
   ]
  },
  {
   "cell_type": "code",
   "execution_count": 20,
   "id": "8521c97e",
   "metadata": {},
   "outputs": [
    {
     "data": {
      "text/plain": [
       "(-0.05500000000000001,\n",
       " 0.05500000000000001,\n",
       " -0.05500000000000001,\n",
       " 0.05500000000000001)"
      ]
     },
     "execution_count": 20,
     "metadata": {},
     "output_type": "execute_result"
    },
    {
     "data": {
      "image/png": "[encoded data removed]",
      "text/plain": [
       "<Figure size 432x288 with 1 Axes>"
      ]
     },
     "metadata": {
      "needs_background": "light"
     },
     "output_type": "display_data"
    },
    {
     "data": {
      "image/png": "[encoded data removed]",
      "text/plain": [
       "<Figure size 432x288 with 1 Axes>"
      ]
     },
     "metadata": {
      "needs_background": "light"
     },
     "output_type": "display_data"
    },
    {
     "data": {
      "image/png": "[encoded data removed]",
      "text/plain": [
       "<Figure size 432x288 with 1 Axes>"
      ]
     },
     "metadata": {
      "needs_background": "light"
     },
     "output_type": "display_data"
    }
   ],
   "source": [
    "corr_symbol = '$\\cdot$' \n",
    "seq_labels = [\"A\", \"B\", \"A'\"]\n",
    "\n",
    "# plot distributions\n",
    "\n",
    "hist_bins = np.linspace(-0.2, 1, 30)\n",
    "for i in range(1, len(sequence)):\n",
    "    plt.figure()\n",
    "    plt.hist(self_correlation[i], alpha = 0.5, density = True, bins = hist_bins)\n",
    "    plt.hist(distribution[i], alpha = 0.5, density = True, bins = hist_bins)\n",
    "    plt.xlabel(f\"{seq_labels[0]} {corr_symbol} {seq_labels[i]}\")\n",
    "    if i == 2:\n",
    "        plt.ylabel(\"Density\")\n",
    "\n",
    "    #plt.savefig(f\"./figures/{model_name}_global_remapping_spatial_correlation_{i}\")\n",
    "\n",
    "plt.figure()\n",
    "plt.plot(0,0, 0,0)\n",
    "plt.legend([\"Self-to-self\", \"Shuffled\"], bbox_to_anchor=(0.1, 0.9), loc='upper left', ncol=1)\n",
    "plt.axis(\"off\")\n",
    "#plt.savefig(f\"./figures/{model_name}_global_remapping_spatial_correlation_legend\")"
   ]
  },
  {
   "cell_type": "code",
   "execution_count": 21,
   "id": "0b77047e",
   "metadata": {},
   "outputs": [
    {
     "name": "stderr",
     "output_type": "stream",
     "text": [
      "<ipython-input-21-79a61d5c26b6>:5: MatplotlibDeprecationWarning: The get_cmap function was deprecated in Matplotlib 3.7 and will be removed two minor releases later. Use ``matplotlib.colormaps[name]`` or ``matplotlib.colormaps.get_cmap(obj)`` instead.\n",
      "  plt.bar(j-1, mean_self_correlation[j], color = matplotlib.cm.get_cmap(\"Blues\")(0.3))\n"
     ]
    },
    {
     "data": {
      "text/plain": [
       "([<matplotlib.axis.XTick at 0x168ff8c40>,\n",
       "  <matplotlib.axis.XTick at 0x168ff8c10>],\n",
       " [Text(0, 0, 'A$\\\\cdot$B'), Text(1, 0, \"A$\\\\cdot$A'\")])"
      ]
     },
     "execution_count": 21,
     "metadata": {},
     "output_type": "execute_result"
    },
    {
     "data": {
      "image/png": "[encoded data removed]",
      "text/plain": [
       "<Figure size 432x288 with 1 Axes>"
      ]
     },
     "metadata": {
      "needs_background": "light"
     },
     "output_type": "display_data"
    }
   ],
   "source": [
    "\n",
    "labels = []\n",
    "\n",
    "for j in range(1, len(sequence)):\n",
    "    labels.append(f\"{seq_labels[0]}{corr_symbol}{seq_labels[j]}\")\n",
    "    plt.bar(j-1, mean_self_correlation[j], color = matplotlib.cm.get_cmap(\"Blues\")(0.3))\n",
    "    plt.hlines(np.mean(distribution[j]), (j-1.4), (j-0.6), linestyles = \"dashed\")\n",
    "\n",
    "plt.xticks(np.arange(0, len(sequence)-1), labels)\n",
    "#plt.tight_layout()\n",
    "\n",
    "#plt.savefig(f\"./figures/{model_name}_spatial_correlation_bar\", bbox_inches = \"tight\")"
   ]
  },
  {
   "cell_type": "markdown",
   "id": "7cd8b851",
   "metadata": {},
   "source": [
    "### Rate overlap"
   ]
  },
  {
   "cell_type": "code",
   "execution_count": 22,
   "id": "c82ae8b6",
   "metadata": {},
   "outputs": [],
   "source": [
    "mu_overlap = np.zeros(len(sequence))\n",
    "sig_overlap = np.zeros(len(sequence))\n",
    "n_active = np.zeros(len(sequence))\n",
    "random_overlap = np.zeros(len(sequence))\n",
    "\n",
    "for i in range(len(sequence)):\n",
    "    mu_overlap[i], sig_overlap[i], n_active[i] = stats.rate_overlap(p_ratemaps[0], p_ratemaps[i])\n",
    "    random_overlap[i] = stats.random_rate_overlap(p_ratemaps[0], p_ratemaps[i])"
   ]
  },
  {
   "cell_type": "code",
   "execution_count": 23,
   "id": "6e38a0c1-b653-4118-8716-be221a01eef3",
   "metadata": {},
   "outputs": [
    {
     "name": "stderr",
     "output_type": "stream",
     "text": [
      "<ipython-input-23-bf8c6a7dc6ba>:7: MatplotlibDeprecationWarning: The get_cmap function was deprecated in Matplotlib 3.7 and will be removed two minor releases later. Use ``matplotlib.colormaps[name]`` or ``matplotlib.colormaps.get_cmap(obj)`` instead.\n",
      "  plt.bar(j-1, mu_overlap[j], yerr = sig_overlap[j], color = matplotlib.cm.get_cmap(\"Oranges\")(0.3))\n"
     ]
    },
    {
     "data": {
      "image/png": "[encoded data removed]",
      "text/plain": [
       "<Figure size 72x72 with 1 Axes>"
      ]
     },
     "metadata": {
      "needs_background": "light"
     },
     "output_type": "display_data"
    }
   ],
   "source": [
    "labels = []\n",
    "symbol = \"/\"\n",
    "\n",
    "for j in range(len(sequence)):\n",
    "    if j > 0:\n",
    "        labels.append(f\"{seq_labels[0]}{symbol}{seq_labels[j]}\")\n",
    "        plt.bar(j-1, mu_overlap[j], yerr = sig_overlap[j], color = matplotlib.cm.get_cmap(\"Oranges\")(0.3))\n",
    "        plt.hlines(random_overlap[j], (j-1.4), (j-0.6), linestyles = \"dashed\")\n",
    "plt.xticks(np.arange(len(sequence)-1), labels, rotation = 0)\n",
    "plt.ylim(0, 1)\n",
    "plt.gcf().set_size_inches(1,1)\n",
    "#plt.savefig(f\"./figures/{model_name}_rate_overlap_bar\", bbox_inches = \"tight\")\n"
   ]
  },
  {
   "cell_type": "code",
   "execution_count": 24,
   "id": "b2989833-2c56-48a9-b06e-7f5745cd4543",
   "metadata": {},
   "outputs": [
    {
     "name": "stderr",
     "output_type": "stream",
     "text": [
      "<ipython-input-24-4b01c42d508c>:5: MatplotlibDeprecationWarning: The get_cmap function was deprecated in Matplotlib 3.7 and will be removed two minor releases later. Use ``matplotlib.colormaps[name]`` or ``matplotlib.colormaps.get_cmap(obj)`` instead.\n",
      "  plt.bar(j-1, mean_self_correlation[j], color = matplotlib.cm.get_cmap(\"Blues\")(0.3))\n"
     ]
    },
    {
     "data": {
      "text/plain": [
       "([<matplotlib.axis.XTick at 0x16914be20>,\n",
       "  <matplotlib.axis.XTick at 0x16914bdf0>],\n",
       " [Text(0, 0, 'A$\\\\cdot$B'), Text(1, 0, \"A$\\\\cdot$A'\")])"
      ]
     },
     "execution_count": 24,
     "metadata": {},
     "output_type": "execute_result"
    },
    {
     "data": {
      "image/png": "[encoded data removed]",
      "text/plain": [
       "<Figure size 432x288 with 1 Axes>"
      ]
     },
     "metadata": {
      "needs_background": "light"
     },
     "output_type": "display_data"
    }
   ],
   "source": [
    "\n",
    "labels = []\n",
    "\n",
    "for j in range(1, len(sequence)):\n",
    "    labels.append(f\"{seq_labels[0]}{corr_symbol}{seq_labels[j]}\")\n",
    "    plt.bar(j-1, mean_self_correlation[j], color = matplotlib.cm.get_cmap(\"Blues\")(0.3))\n",
    "    plt.hlines(np.mean(distribution[j]), (j-1.4), (j-0.6), linestyles = \"dashed\")\n",
    "\n",
    "plt.xticks(np.arange(0, len(sequence)-1), labels)\n",
    "#plt.ylim(-0.05, 1.1)\n",
    "#plt.savefig(f\"./figures/{model_name}_spatial_correlation_bar\")"
   ]
  },
  {
   "cell_type": "code",
   "execution_count": 25,
   "id": "ca9e4235-8a49-49f6-a62b-80455390d58e",
   "metadata": {},
   "outputs": [],
   "source": [
    "pop_corr = np.zeros((len(sequence), p_ratemaps.shape[-2], p_ratemaps.shape[-1]))\n",
    "\n",
    "for i in range(1, len(sequence)):\n",
    "    for j in range(32):\n",
    "        for k in range(32):\n",
    "            pop_corr[i, j, k] = np.corrcoef(p_ratemaps[0,:,j,k], p_ratemaps[i,:,j,k])[0,1]"
   ]
  },
  {
   "cell_type": "code",
   "execution_count": null,
   "id": "22fbf8f2-a498-4667-89da-4cce48c9690b",
   "metadata": {},
   "outputs": [],
   "source": []
  },
  {
   "cell_type": "code",
   "execution_count": 26,
   "id": "ae4ef5bd-5edd-491d-a3fb-0c409ec2de22",
   "metadata": {},
   "outputs": [
    {
     "data": {
      "image/png": "[encoded data removed]",
      "text/plain": [
       "<Figure size 432x288 with 2 Axes>"
      ]
     },
     "metadata": {
      "needs_background": "light"
     },
     "output_type": "display_data"
    },
    {
     "data": {
      "image/png": "[encoded data removed]",
      "text/plain": [
       "<Figure size 432x288 with 2 Axes>"
      ]
     },
     "metadata": {
      "needs_background": "light"
     },
     "output_type": "display_data"
    }
   ],
   "source": [
    "lims = [-1, 1, -1, 1]\n",
    "for i in range(1, len(sequence)):\n",
    "    plt.figure()\n",
    "    plt.imshow(pop_corr[i], extent = lims)#, vmin = np.amin(pop_corr), vmax = np.amax(pop_corr))\n",
    "    plt.colorbar(pad = 0.05, fraction = 0.045)\n",
    "    #plt.savefig(f\"./figures/{model_name}_spatial_correlation_space_{i}\", bbox_inches = \"tight\")\n",
    "    "
   ]
  },
  {
   "cell_type": "code",
   "execution_count": null,
   "id": "33ac1362-b5ce-44bb-947e-40a8893e03de",
   "metadata": {},
   "outputs": [],
   "source": []
  },
  {
   "cell_type": "code",
   "execution_count": null,
   "id": "5e646264-4ae3-4dfc-9a43-47e349f0f498",
   "metadata": {},
   "outputs": [],
   "source": []
  },
  {
   "cell_type": "code",
   "execution_count": null,
   "id": "ee529a30-262b-4930-955f-9f4ea883046c",
   "metadata": {},
   "outputs": [],
   "source": []
  }
 ],
 "metadata": {
  "kernelspec": {
   "display_name": "Python 3",
   "language": "python",
   "name": "python3"
  },
  "language_info": {
   "codemirror_mode": {
    "name": "ipython",
    "version": 3
   },
   "file_extension": ".py",
   "mimetype": "text/x-python",
   "name": "python",
   "nbconvert_exporter": "python",
   "pygments_lexer": "ipython3",
   "version": "3.9.16"
  }
 },
 "nbformat": 4,
 "nbformat_minor": 5
}
