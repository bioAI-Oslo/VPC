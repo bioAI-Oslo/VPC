{
 "cells": [
  {
   "cell_type": "code",
   "execution_count": 1,
   "id": "8d276172",
   "metadata": {},
   "outputs": [],
   "source": [
    "\n",
    "import sys\n",
    "sys.path.insert(0, \"../\")\n",
    "sys.path.insert(0, \"../dataset_generator/\")\n",
    "from environments import Environments\n",
    "\n",
    "import umap\n",
    "import matplotlib\n",
    "import numpy as np\n",
    "import matplotlib.pyplot as plt\n",
    "\n",
    "plt.style.use(\"project_style.mplstyle\")\n",
    "\n",
    "import stats\n",
    "import analysis_tools"
   ]
  },
  {
   "cell_type": "code",
   "execution_count": 2,
   "id": "ad8a4695",
   "metadata": {},
   "outputs": [],
   "source": [
    "def plot_3d_proj(data, tags = None, cmap = \"viridis\", title = \"\", axes = None):\n",
    "    if axes is None:\n",
    "        fig = plt.figure(figsize = (6,6))\n",
    "        ax = fig.add_subplot(projection='3d')\n",
    "    else:\n",
    "        ax = axes\n",
    "    ax.set_title(title)\n",
    "    #norm = matplotlib.colors.Normalize(np.amin(tags), np.amax(tags))\n",
    "    #col = matplotlib.cm.tab20c(norm(tags))\n",
    "    ax.scatter(xs=data[:,0], ys=data[:,1], zs=data[:,2], c = tags, s =5, alpha = 0.5, cmap = cmap, edgecolors=None)\n",
    "    ax.axis(\"off\")\n",
    "    \n",
    "    if axes is None:\n",
    "        return fig    "
   ]
  },
  {
   "cell_type": "code",
   "execution_count": 3,
   "id": "eb3bcf49",
   "metadata": {},
   "outputs": [],
   "source": [
    "def fit_umap(data, components = 2):\n",
    "    fit = umap.UMAP(n_components = components)\n",
    "    transformed = fit.fit_transform(data)\n",
    "    return transformed"
   ]
  },
  {
   "cell_type": "code",
   "execution_count": 4,
   "id": "fcad87fa-be52-4dba-b17f-b8bb5b8f25b1",
   "metadata": {},
   "outputs": [],
   "source": [
    "model_name = f\"../models/al1_10_l2_0\"\n",
    "path = f\"../models/{model_name}\"\n",
    "model, params = analysis_tools.load_model(path, device = \"cpu\", model_type = \"RNN\")"
   ]
  },
  {
   "cell_type": "code",
   "execution_count": 5,
   "id": "d97285c7",
   "metadata": {},
   "outputs": [],
   "source": [
    "env = Environments()\n",
    "sequence = list(env.envs)\n",
    "n_envs = len(sequence)\n",
    "limits = 1.1*np.array([-1.5, 1.5, -1.5, 1.5])\n",
    "\n",
    "timesteps = 10000"
   ]
  },
  {
   "cell_type": "code",
   "execution_count": 26,
   "id": "54fc52e8",
   "metadata": {},
   "outputs": [],
   "source": [
    "weights = model.g.weight_hh_l0.detach().cpu().numpy()\n",
    "\n",
    "for i in range(len(weights)):\n",
    "        weights[i, i] = np.nan"
   ]
  },
  {
   "cell_type": "code",
   "execution_count": 27,
   "id": "e99733ae",
   "metadata": {},
   "outputs": [],
   "source": [
    "eps = 1e-3\n",
    "nonzero = np.sum(np.abs(weights), axis = -1) > eps"
   ]
  },
  {
   "cell_type": "code",
   "execution_count": 28,
   "id": "e6a87559",
   "metadata": {},
   "outputs": [
    {
     "data": {
      "text/plain": [
       "0"
      ]
     },
     "execution_count": 28,
     "metadata": {},
     "output_type": "execute_result"
    }
   ],
   "source": [
    "nonzero.sum()"
   ]
  },
  {
   "cell_type": "code",
   "execution_count": 33,
   "id": "f6ed7495",
   "metadata": {},
   "outputs": [
    {
     "data": {
      "text/plain": [
       "(array([ 1.,  0.,  0.,  0.,  0.,  0.,  0.,  0.,  0.,  0.,  0.,  0.,  0.,\n",
       "         0.,  0.,  0.,  0.,  0.,  0.,  0.,  0.,  0.,  0.,  0.,  0.,  0.,\n",
       "         0.,  0.,  0.,  0.,  0.,  0.,  0.,  0.,  0.,  0.,  0.,  0.,  0.,\n",
       "         0.,  0.,  0.,  0.,  0.,  0.,  0.,  0.,  0.,  0.,  0.,  0.,  0.,\n",
       "         0.,  0.,  0.,  0.,  0.,  0.,  0.,  0.,  0.,  0.,  0.,  0.,  0.,\n",
       "         0.,  0.,  0.,  0.,  0.,  0.,  0.,  0.,  0.,  0.,  0.,  0.,  0.,\n",
       "         0.,  0.,  0.,  0.,  0.,  0.,  0.,  0.,  0.,  0.,  0.,  0.,  0.,\n",
       "         0.,  0.,  0.,  0.,  0.,  0.,  0.,  0.,  0.,  0.,  0.,  0.,  0.,\n",
       "         0.,  0.,  0.,  0.,  0.,  0.,  0.,  0.,  0.,  0.,  0.,  0.,  0.,\n",
       "         0.,  0.,  0.,  0.,  0.,  0.,  0.,  0.,  1.,  0.,  0.,  0.,  0.,\n",
       "         0.,  0.,  0.,  0.,  0.,  0.,  0.,  0.,  0.,  0.,  0.,  0.,  0.,\n",
       "         0.,  0.,  0.,  0.,  0.,  0.,  0.,  0.,  0.,  0.,  0.,  0.,  0.,\n",
       "         0.,  0.,  0.,  0.,  0.,  0.,  0.,  0.,  0.,  0.,  0.,  0.,  0.,\n",
       "         0.,  0.,  0.,  0.,  0.,  0.,  0.,  0.,  0.,  0.,  0.,  0.,  0.,\n",
       "         0.,  0.,  0.,  0.,  0.,  0.,  0.,  0.,  0.,  0.,  0.,  0.,  0.,\n",
       "         0.,  0.,  0.,  0.,  0.,  0.,  0.,  0.,  0.,  0.,  0.,  0.,  0.,\n",
       "         0.,  0.,  0.,  0.,  0.,  0.,  0.,  0.,  0.,  0.,  0.,  0.,  0.,\n",
       "         0.,  0.,  0.,  0.,  0.,  0.,  0.,  0.,  0.,  0.,  0.,  0.,  0.,\n",
       "         0.,  0.,  0.,  0.,  0.,  1.,  0.,  0.,  0.,  0.,  0.,  0.,  0.,\n",
       "         0.,  0.,  0.,  0.,  0.,  0.,  0.,  0.,  0.,  0.,  0.,  0.,  0.,\n",
       "         0.,  0.,  0.,  0.,  0.,  1.,  0.,  0.,  0.,  0.,  0.,  0.,  0.,\n",
       "         0.,  0.,  0.,  0.,  0.,  0.,  0.,  0.,  0.,  0.,  0.,  0.,  0.,\n",
       "         0.,  0.,  0.,  0.,  0.,  0.,  0.,  0.,  0.,  0.,  0.,  0.,  0.,\n",
       "         0.,  0.,  0.,  0.,  0.,  0.,  0.,  0.,  0.,  0.,  0.,  0.,  0.,\n",
       "         0.,  0.,  0.,  0.,  0.,  0.,  0.,  0.,  0.,  0.,  0.,  0.,  0.,\n",
       "         0.,  0.,  0.,  0.,  0.,  0.,  0.,  0.,  0.,  0.,  0.,  0.,  0.,\n",
       "         0.,  0.,  0.,  0.,  0.,  0.,  0.,  0.,  1.,  0.,  0.,  0.,  0.,\n",
       "         0.,  0.,  0.,  0.,  0.,  0.,  0.,  0.,  0.,  0.,  0.,  0.,  0.,\n",
       "         0.,  0.,  0.,  0.,  0.,  0.,  1.,  0.,  0.,  1.,  0.,  0.,  0.,\n",
       "         0.,  0.,  0.,  0.,  0.,  0.,  0.,  0.,  0.,  0.,  0.,  0.,  0.,\n",
       "         0.,  0.,  0.,  0.,  0.,  0.,  0.,  0.,  0.,  0.,  0.,  0.,  0.,\n",
       "         0.,  0.,  0.,  0.,  0.,  0.,  1.,  0.,  0.,  0.,  0.,  0.,  0.,\n",
       "         0.,  0.,  0.,  0.,  0.,  1.,  0.,  0.,  0.,  0.,  0.,  0.,  0.,\n",
       "         0.,  0.,  1.,  0.,  0.,  1.,  1.,  0.,  0.,  0.,  0.,  0.,  0.,\n",
       "         0.,  0.,  0.,  0.,  1.,  0.,  2.,  0.,  1.,  0.,  2.,  1.,  0.,\n",
       "         0.,  1.,  0.,  0.,  1.,  0.,  0.,  0.,  0.,  1.,  0.,  0.,  0.,\n",
       "         0.,  1.,  1.,  3.,  0.,  5.,  3.,  0.,  3.,  3.,  0.,  5.,  2.,\n",
       "         3.,  4.,  5.,  3.,  6.,  7., 12., 15.,  9., 24., 31., 33., 46.,\n",
       "        46., 62., 97., 47.,  0.,  1.]),\n",
       " array([-0.03035615, -0.03029633, -0.03023651, -0.03017669, -0.03011687,\n",
       "        -0.03005706, -0.02999724, -0.02993742, -0.0298776 , -0.02981778,\n",
       "        -0.02975796, -0.02969815, -0.02963833, -0.02957851, -0.02951869,\n",
       "        -0.02945887, -0.02939906, -0.02933924, -0.02927942, -0.0292196 ,\n",
       "        -0.02915978, -0.02909996, -0.02904015, -0.02898033, -0.02892051,\n",
       "        -0.02886069, -0.02880087, -0.02874105, -0.02868124, -0.02862142,\n",
       "        -0.0285616 , -0.02850178, -0.02844196, -0.02838214, -0.02832233,\n",
       "        -0.02826251, -0.02820269, -0.02814287, -0.02808305, -0.02802324,\n",
       "        -0.02796342, -0.0279036 , -0.02784378, -0.02778396, -0.02772414,\n",
       "        -0.02766433, -0.02760451, -0.02754469, -0.02748487, -0.02742505,\n",
       "        -0.02736524, -0.02730542, -0.0272456 , -0.02718578, -0.02712596,\n",
       "        -0.02706615, -0.02700633, -0.02694651, -0.02688669, -0.02682687,\n",
       "        -0.02676705, -0.02670724, -0.02664742, -0.0265876 , -0.02652778,\n",
       "        -0.02646796, -0.02640815, -0.02634833, -0.02628851, -0.02622869,\n",
       "        -0.02616887, -0.02610905, -0.02604924, -0.02598942, -0.0259296 ,\n",
       "        -0.02586978, -0.02580996, -0.02575015, -0.02569033, -0.02563051,\n",
       "        -0.02557069, -0.02551087, -0.02545105, -0.02539124, -0.02533142,\n",
       "        -0.0252716 , -0.02521178, -0.02515196, -0.02509215, -0.02503233,\n",
       "        -0.02497251, -0.02491269, -0.02485287, -0.02479305, -0.02473324,\n",
       "        -0.02467342, -0.0246136 , -0.02455378, -0.02449396, -0.02443414,\n",
       "        -0.02437433, -0.02431451, -0.02425469, -0.02419487, -0.02413505,\n",
       "        -0.02407523, -0.02401542, -0.0239556 , -0.02389578, -0.02383596,\n",
       "        -0.02377614, -0.02371632, -0.02365651, -0.02359669, -0.02353687,\n",
       "        -0.02347705, -0.02341723, -0.02335742, -0.0232976 , -0.02323778,\n",
       "        -0.02317796, -0.02311814, -0.02305833, -0.02299851, -0.02293869,\n",
       "        -0.02287887, -0.02281905, -0.02275923, -0.02269942, -0.0226396 ,\n",
       "        -0.02257978, -0.02251996, -0.02246014, -0.02240033, -0.02234051,\n",
       "        -0.02228069, -0.02222087, -0.02216105, -0.02210123, -0.02204142,\n",
       "        -0.0219816 , -0.02192178, -0.02186196, -0.02180214, -0.02174233,\n",
       "        -0.02168251, -0.02162269, -0.02156287, -0.02150305, -0.02144323,\n",
       "        -0.02138342, -0.0213236 , -0.02126378, -0.02120396, -0.02114414,\n",
       "        -0.02108433, -0.02102451, -0.02096469, -0.02090487, -0.02084505,\n",
       "        -0.02078523, -0.02072542, -0.0206656 , -0.02060578, -0.02054596,\n",
       "        -0.02048614, -0.02042633, -0.02036651, -0.02030669, -0.02024687,\n",
       "        -0.02018705, -0.02012723, -0.02006742, -0.0200076 , -0.01994778,\n",
       "        -0.01988796, -0.01982814, -0.01976832, -0.01970851, -0.01964869,\n",
       "        -0.01958887, -0.01952905, -0.01946923, -0.01940941, -0.0193496 ,\n",
       "        -0.01928978, -0.01922996, -0.01917014, -0.01911032, -0.01905051,\n",
       "        -0.01899069, -0.01893087, -0.01887105, -0.01881123, -0.01875141,\n",
       "        -0.0186916 , -0.01863178, -0.01857196, -0.01851214, -0.01845232,\n",
       "        -0.01839251, -0.01833269, -0.01827287, -0.01821305, -0.01815323,\n",
       "        -0.01809341, -0.0180336 , -0.01797378, -0.01791396, -0.01785414,\n",
       "        -0.01779432, -0.01773451, -0.01767469, -0.01761487, -0.01755505,\n",
       "        -0.01749523, -0.01743541, -0.0173756 , -0.01731578, -0.01725596,\n",
       "        -0.01719614, -0.01713632, -0.01707651, -0.01701669, -0.01695687,\n",
       "        -0.01689705, -0.01683723, -0.01677741, -0.0167176 , -0.01665778,\n",
       "        -0.01659796, -0.01653814, -0.01647832, -0.01641851, -0.01635869,\n",
       "        -0.01629887, -0.01623905, -0.01617923, -0.01611941, -0.0160596 ,\n",
       "        -0.01599978, -0.01593996, -0.01588014, -0.01582032, -0.01576051,\n",
       "        -0.01570069, -0.01564087, -0.01558105, -0.01552123, -0.01546141,\n",
       "        -0.0154016 , -0.01534178, -0.01528196, -0.01522214, -0.01516232,\n",
       "        -0.0151025 , -0.01504269, -0.01498287, -0.01492305, -0.01486323,\n",
       "        -0.01480341, -0.0147436 , -0.01468378, -0.01462396, -0.01456414,\n",
       "        -0.01450432, -0.0144445 , -0.01438469, -0.01432487, -0.01426505,\n",
       "        -0.01420523, -0.01414541, -0.0140856 , -0.01402578, -0.01396596,\n",
       "        -0.01390614, -0.01384632, -0.0137865 , -0.01372669, -0.01366687,\n",
       "        -0.01360705, -0.01354723, -0.01348741, -0.01342759, -0.01336778,\n",
       "        -0.01330796, -0.01324814, -0.01318832, -0.0131285 , -0.01306869,\n",
       "        -0.01300887, -0.01294905, -0.01288923, -0.01282941, -0.01276959,\n",
       "        -0.01270978, -0.01264996, -0.01259014, -0.01253032, -0.0124705 ,\n",
       "        -0.01241069, -0.01235087, -0.01229105, -0.01223123, -0.01217141,\n",
       "        -0.01211159, -0.01205178, -0.01199196, -0.01193214, -0.01187232,\n",
       "        -0.0118125 , -0.01175269, -0.01169287, -0.01163305, -0.01157323,\n",
       "        -0.01151341, -0.01145359, -0.01139378, -0.01133396, -0.01127414,\n",
       "        -0.01121432, -0.0111545 , -0.01109468, -0.01103487, -0.01097505,\n",
       "        -0.01091523, -0.01085541, -0.01079559, -0.01073578, -0.01067596,\n",
       "        -0.01061614, -0.01055632, -0.0104965 , -0.01043668, -0.01037687,\n",
       "        -0.01031705, -0.01025723, -0.01019741, -0.01013759, -0.01007778,\n",
       "        -0.01001796, -0.00995814, -0.00989832, -0.0098385 , -0.00977868,\n",
       "        -0.00971887, -0.00965905, -0.00959923, -0.00953941, -0.00947959,\n",
       "        -0.00941978, -0.00935996, -0.00930014, -0.00924032, -0.0091805 ,\n",
       "        -0.00912068, -0.00906087, -0.00900105, -0.00894123, -0.00888141,\n",
       "        -0.00882159, -0.00876177, -0.00870196, -0.00864214, -0.00858232,\n",
       "        -0.0085225 , -0.00846268, -0.00840287, -0.00834305, -0.00828323,\n",
       "        -0.00822341, -0.00816359, -0.00810377, -0.00804396, -0.00798414,\n",
       "        -0.00792432, -0.0078645 , -0.00780468, -0.00774487, -0.00768505,\n",
       "        -0.00762523, -0.00756541, -0.00750559, -0.00744577, -0.00738596,\n",
       "        -0.00732614, -0.00726632, -0.0072065 , -0.00714668, -0.00708687,\n",
       "        -0.00702705, -0.00696723, -0.00690741, -0.00684759, -0.00678777,\n",
       "        -0.00672796, -0.00666814, -0.00660832, -0.0065485 , -0.00648868,\n",
       "        -0.00642887, -0.00636905, -0.00630923, -0.00624941, -0.00618959,\n",
       "        -0.00612977, -0.00606996, -0.00601014, -0.00595032, -0.0058905 ,\n",
       "        -0.00583068, -0.00577086, -0.00571105, -0.00565123, -0.00559141,\n",
       "        -0.00553159, -0.00547177, -0.00541196, -0.00535214, -0.00529232,\n",
       "        -0.0052325 , -0.00517268, -0.00511286, -0.00505305, -0.00499323,\n",
       "        -0.00493341, -0.00487359, -0.00481377, -0.00475396, -0.00469414,\n",
       "        -0.00463432, -0.0045745 , -0.00451468, -0.00445486, -0.00439505,\n",
       "        -0.00433523, -0.00427541, -0.00421559, -0.00415577, -0.00409596,\n",
       "        -0.00403614, -0.00397632, -0.0039165 , -0.00385668, -0.00379686,\n",
       "        -0.00373705, -0.00367723, -0.00361741, -0.00355759, -0.00349777,\n",
       "        -0.00343795, -0.00337814, -0.00331832, -0.0032585 , -0.00319868,\n",
       "        -0.00313886, -0.00307905, -0.00301923, -0.00295941, -0.00289959,\n",
       "        -0.00283977, -0.00277995, -0.00272014, -0.00266032, -0.0026005 ,\n",
       "        -0.00254068, -0.00248086, -0.00242105, -0.00236123, -0.00230141,\n",
       "        -0.00224159, -0.00218177, -0.00212195, -0.00206214, -0.00200232,\n",
       "        -0.0019425 , -0.00188268, -0.00182286, -0.00176305, -0.00170323,\n",
       "        -0.00164341, -0.00158359, -0.00152377, -0.00146395, -0.00140414,\n",
       "        -0.00134432, -0.0012845 , -0.00122468, -0.00116486, -0.00110504,\n",
       "        -0.00104523, -0.00098541, -0.00092559, -0.00086577, -0.00080595,\n",
       "        -0.00074614, -0.00068632, -0.0006265 , -0.00056668, -0.00050686,\n",
       "        -0.00044704]),\n",
       " <BarContainer object of 500 artists>)"
      ]
     },
     "execution_count": 33,
     "metadata": {},
     "output_type": "execute_result"
    },
    {
     "data": {
      "image/png": "[encoded data removed]",
      "text/plain": [
       "<Figure size 450x450 with 1 Axes>"
      ]
     },
     "metadata": {},
     "output_type": "display_data"
    }
   ],
   "source": [
    "plt.figure()\n",
    "plt.hist(weights[0], bins = 500)\n"
   ]
  },
  {
   "cell_type": "code",
   "execution_count": null,
   "id": "2c46df5a",
   "metadata": {},
   "outputs": [],
   "source": []
  }
 ],
 "metadata": {
  "kernelspec": {
   "display_name": "Python 3",
   "language": "python",
   "name": "python3"
  },
  "language_info": {
   "codemirror_mode": {
    "name": "ipython",
    "version": 3
   },
   "file_extension": ".py",
   "mimetype": "text/x-python",
   "name": "python",
   "nbconvert_exporter": "python",
   "pygments_lexer": "ipython3",
   "version": "3.10.13"
  }
 },
 "nbformat": 4,
 "nbformat_minor": 5
}
