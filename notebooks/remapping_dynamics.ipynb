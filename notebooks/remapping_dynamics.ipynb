{
 "cells": [
  {
   "cell_type": "code",
   "execution_count": 1,
   "id": "4fcdd27d-0cce-4c88-8fb5-b108277604d3",
   "metadata": {},
   "outputs": [],
   "source": [
    "import sys\n",
    "sys.path.insert(0, \"../\")\n",
    "sys.path.insert(0, \"../dataset_generation/\")\n",
    "\n",
    "import json\n",
    "import torch\n",
    "import numpy as np\n",
    "import scipy.signal\n",
    "import matplotlib.pyplot as plt\n",
    "\n",
    "#plt.style.use(\"project_style.mplstyle\")\n",
    "\n",
    "import stats\n",
    "import scipy.stats\n",
    "from tqdm import tqdm\n",
    "import analysis_tools as tools"
   ]
  },
  {
   "cell_type": "code",
   "execution_count": 2,
   "id": "77911fea-2756-4e5b-9ae7-4cd9421d2aaf",
   "metadata": {},
   "outputs": [],
   "source": [
    "sequences = 100\n",
    "timesteps = 500\n",
    "\n",
    "#sequence = [\"square\", \"walled_square\"]\n",
    "sequence = [\"square\", \"square\"]\n",
    "\n",
    "res = 16\n",
    "bins = [[res, res] for i in range(len(sequence))]"
   ]
  },
  {
   "cell_type": "code",
   "execution_count": 3,
   "id": "bd7a2005-31d5-413c-9fc4-44b782848608",
   "metadata": {},
   "outputs": [],
   "source": [
    "# load model and specs\n",
    "model_name = \"al1_10_l2_1\"\n",
    "path = f\"../models/{model_name}\"\n",
    "model, params = tools.load_model(path, device = \"cpu\", model_type = \"RNN\")"
   ]
  },
  {
   "cell_type": "code",
   "execution_count": 4,
   "id": "d0a4b992-5be4-4d71-a0eb-3e2ddfb1a2ba",
   "metadata": {},
   "outputs": [
    {
     "data": {
      "text/plain": [
       "VPC_RNN(\n",
       "  (g): RNN(8, 500, bias=False, batch_first=True)\n",
       "  (p): Linear(in_features=500, out_features=100, bias=False)\n",
       "  (activation): ReLU()\n",
       "  (loss_fn): MSELoss()\n",
       ")"
      ]
     },
     "execution_count": 4,
     "metadata": {},
     "output_type": "execute_result"
    }
   ],
   "source": [
    "model"
   ]
  },
  {
   "cell_type": "code",
   "execution_count": 5,
   "id": "d30e1c01-b412-4c6e-995e-0707f90d4d16",
   "metadata": {},
   "outputs": [
    {
     "data": {
      "text/plain": [
       "((100, 500, 2), (100, 500, 2), (100, 500, 6))"
      ]
     },
     "execution_count": 5,
     "metadata": {},
     "output_type": "execute_result"
    }
   ],
   "source": [
    "xa, ra, va, ca = tools.test_dataset(sequences*[sequence[0]], timesteps, context = params[\"context\"], \n",
    "                                    device = \"cpu\", trajectories = True)\n",
    "xb, rb, vb, cb = tools.test_dataset(sequences*[sequence[1]], timesteps, context = params[\"context\"], \n",
    "                                    device = \"cpu\", trajectories = True)\n",
    "ra.shape, va.shape, ca.shape"
   ]
  },
  {
   "cell_type": "code",
   "execution_count": null,
   "id": "6f2116f5-2c8a-4c28-8adc-a31cae2932fb",
   "metadata": {},
   "outputs": [],
   "source": []
  },
  {
   "cell_type": "code",
   "execution_count": 6,
   "id": "a7d5119a-a3b7-498d-b034-aa2b06c848a0",
   "metadata": {},
   "outputs": [
    {
     "data": {
      "text/plain": [
       "((100, 1000, 500), (100, 1000, 100), (100, 1000, 2))"
      ]
     },
     "execution_count": 6,
     "metadata": {},
     "output_type": "execute_result"
    }
   ],
   "source": [
    "gs = []\n",
    "ps = []\n",
    "g_prev = None\n",
    "for x in (xa, xb):\n",
    "    yhat, g, p, mu = model(x, g_prev = g_prev)\n",
    "    g_prev = g[:,-1]\n",
    "    gs.append(g.detach().numpy())\n",
    "    ps.append(p.detach().numpy())\n",
    "\n",
    "gs = np.concatenate(gs, axis = 1)\n",
    "ps = np.concatenate(ps, axis = 1)\n",
    "rs = np.concatenate([ra, rb], axis = 1)\n",
    "gs.shape, ps.shape, rs.shape"
   ]
  },
  {
   "cell_type": "code",
   "execution_count": 7,
   "id": "d632101d-0dc8-4ce2-91aa-3b7ed773b044",
   "metadata": {},
   "outputs": [],
   "source": [
    "g_ratemaps = np.zeros((2*timesteps, params[\"nodes\"], res, res)).astype(\"float32\")\n",
    "p_ratemaps = np.zeros((2*timesteps, params[\"outputs\"], res, res)).astype(\"float32\")"
   ]
  },
  {
   "cell_type": "code",
   "execution_count": 8,
   "id": "d445dd59-615d-4e99-9d87-2fbcd99b51ee",
   "metadata": {},
   "outputs": [],
   "source": [
    "def autocorr(x):\n",
    "    z = np.zeros((len(x), len(x)))\n",
    "    for i in tqdm(range(len(x))):\n",
    "        for j in range(len(x)):\n",
    "            z[i, j] = np.corrcoef(x[i], x[j])[1,0]\n",
    "    return z"
   ]
  },
  {
   "cell_type": "code",
   "execution_count": 9,
   "id": "ebef168f-63f7-4902-bbb2-b6f0ec560a4a",
   "metadata": {},
   "outputs": [],
   "source": [
    "for i in range(2*timesteps):\n",
    "    p_ratemaps[i] = stats.population_vector_ratemaps(ps[None,:,i], rs[None,:,i], bins, smooth = True)\n",
    "    g_ratemaps[i] = stats.population_vector_ratemaps(gs[None,:,i], rs[None,:,i], bins, smooth = True)"
   ]
  },
  {
   "cell_type": "code",
   "execution_count": null,
   "id": "e5636883-818e-4b92-a302-64eecfd1340d",
   "metadata": {},
   "outputs": [],
   "source": []
  },
  {
   "cell_type": "code",
   "execution_count": null,
   "id": "9ce9eb11-e20e-44e4-900a-763f2c731701",
   "metadata": {},
   "outputs": [
    {
     "name": "stderr",
     "output_type": "stream",
     "text": [
      " 65%|█████████████████████████▊              | 646/1000 [15:56<08:43,  1.48s/it]"
     ]
    }
   ],
   "source": [
    "g_corr = autocorr(g_ratemaps.reshape((g_ratemaps.shape[0], -1)))"
   ]
  },
  {
   "cell_type": "code",
   "execution_count": null,
   "id": "e286a9d9-fac9-4cfb-a5ae-8711d26c5a36",
   "metadata": {},
   "outputs": [],
   "source": [
    "p_corr = autocorr(p_ratemaps.reshape((p_ratemaps.shape[0], -1)))"
   ]
  },
  {
   "cell_type": "code",
   "execution_count": null,
   "id": "a21db378-a5cf-49f0-b5eb-8472b8f3ca59",
   "metadata": {},
   "outputs": [],
   "source": [
    "plt.imshow(g_corr, cmap = \"Blues\")\n",
    "plt.colorbar()"
   ]
  },
  {
   "cell_type": "code",
   "execution_count": null,
   "id": "ef183a8e-0205-424f-aac3-2eefd2e7c0dc",
   "metadata": {},
   "outputs": [],
   "source": [
    "plt.imshow(p_corr, cmap = \"coolwarm\")\n",
    "plt.colorbar()"
   ]
  },
  {
   "cell_type": "code",
   "execution_count": null,
   "id": "da9dbb37-91b3-47bc-b495-cb2292d63a4f",
   "metadata": {},
   "outputs": [],
   "source": []
  }
 ],
 "metadata": {
  "kernelspec": {
   "display_name": "Python 3 (ipykernel)",
   "language": "python",
   "name": "python3"
  },
  "language_info": {
   "codemirror_mode": {
    "name": "ipython",
    "version": 3
   },
   "file_extension": ".py",
   "mimetype": "text/x-python",
   "name": "python",
   "nbconvert_exporter": "python",
   "pygments_lexer": "ipython3",
   "version": "3.9.9"
  }
 },
 "nbformat": 4,
 "nbformat_minor": 5
}
