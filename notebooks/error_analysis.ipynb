{
 "cells": [
  {
   "cell_type": "code",
   "execution_count": 1,
   "id": "e1d5eb0e-2b8d-4019-b145-62140860daa6",
   "metadata": {},
   "outputs": [],
   "source": [
    "import sys\n",
    "sys.path.insert(0, \"../\")\n",
    "sys.path.insert(0, \"../dataset_generator/\")\n",
    "\n",
    "import torch\n",
    "import numpy as np\n",
    "import matplotlib\n",
    "import matplotlib.pyplot as plt\n",
    "\n",
    "import scipy.stats\n",
    "plt.style.use(\"project_style.mplstyle\")\n",
    "from tqdm import tqdm\n",
    "\n",
    "import stats\n",
    "import environments\n",
    "import analysis_tools"
   ]
  },
  {
   "cell_type": "code",
   "execution_count": 2,
   "id": "a4e0e1b9-268e-4cda-940f-5f9f9ec386d9",
   "metadata": {},
   "outputs": [],
   "source": [
    "def error_kde(errors, n, ylim, bw = None):\n",
    "    kdes = np.zeros((n, errors.shape[-1]))\n",
    "    eval_errs = np.linspace(0, ylim, n)\n",
    "    \n",
    "    for i in range(errors.shape[-1]):\n",
    "        kernel = scipy.stats.gaussian_kde(errors[:,i], bw_method = bw)\n",
    "        kdes[:, i] = kernel(eval_errs) \n",
    "    return kdes\n",
    "\n",
    "def inset_walls(ax, walls, scale = 0.2):\n",
    "    w = np.amax(np.abs(walls))*1.1*scale\n",
    "    h = w\n",
    "    subax = ax.inset_axes(bounds = [0.65, 0.65, w, h])\n",
    "    for wall in walls:\n",
    "        subax.plot(*walls.T, \"k\", linewidth = 0.25)\n",
    "        subax.axis(\"equal\")\n",
    "        subax.axis(\"off\")"
   ]
  },
  {
   "cell_type": "code",
   "execution_count": 3,
   "id": "57b1abb9-7933-47d5-8b2e-531d5764f0cc",
   "metadata": {},
   "outputs": [],
   "source": [
    "name = \"al1_10_l2_0\"\n",
    "path = f\"../models/{name}\"\n",
    "model, params = analysis_tools.load_model(path, device = \"cpu\", model_type = \"RNN\") # model of interest\n",
    "\n",
    "timesteps = 500 # timesteps per sequence\n",
    "samples = 100 # of samples for each environment"
   ]
  },
  {
   "cell_type": "code",
   "execution_count": 9,
   "id": "bd088b80-db43-40f6-9d96-2f166c27aeb5",
   "metadata": {},
   "outputs": [],
   "source": [
    "envs = environments.Environments()\n",
    "walls = envs.envs\n",
    "envs = list(envs.envs) # :)\n",
    "envs = [\"square\"]*4\n",
    "\n",
    "loss = np.zeros((len(envs), samples, timesteps))"
   ]
  },
  {
   "cell_type": "code",
   "execution_count": 10,
   "id": "dd2651c9-fc4b-486b-a483-45b26fa5552f",
   "metadata": {},
   "outputs": [
    {
     "name": "stderr",
     "output_type": "stream",
     "text": [
      " 25%|██▌       | 1/4 [00:07<00:21,  7.17s/it]"
     ]
    },
    {
     "name": "stdout",
     "output_type": "stream",
     "text": [
      "tensor(0.1633)\n"
     ]
    },
    {
     "name": "stderr",
     "output_type": "stream",
     "text": [
      " 50%|█████     | 2/4 [00:14<00:14,  7.20s/it]"
     ]
    },
    {
     "name": "stdout",
     "output_type": "stream",
     "text": [
      "tensor(0.1601)\n"
     ]
    },
    {
     "name": "stderr",
     "output_type": "stream",
     "text": [
      " 75%|███████▌  | 3/4 [00:21<00:07,  7.20s/it]"
     ]
    },
    {
     "name": "stdout",
     "output_type": "stream",
     "text": [
      "tensor(0.1650)\n"
     ]
    },
    {
     "name": "stderr",
     "output_type": "stream",
     "text": [
      "100%|██████████| 4/4 [00:29<00:00,  7.29s/it]"
     ]
    },
    {
     "name": "stdout",
     "output_type": "stream",
     "text": [
      "tensor(0.1737)\n"
     ]
    },
    {
     "name": "stderr",
     "output_type": "stream",
     "text": [
      "\n"
     ]
    }
   ],
   "source": [
    "for i, env in enumerate(tqdm(envs)):\n",
    "    sequence = samples*[env] # sample environment several times\n",
    "    x, r, v, c = analysis_tools.test_dataset(sequence, timesteps = timesteps, context = params[\"context\"], trajectories = True)\n",
    "    dataset = [((x[0][i,None], x[1][i,None]), x[1][i,None]) for i in range(len(sequence))] # repackage\n",
    "    _, _, _, preds = model.inference(dataset)\n",
    "    loss[i] = np.linalg.norm(preds - r, axis = -1)"
   ]
  },
  {
   "cell_type": "code",
   "execution_count": null,
   "id": "ae43e9a6-a27d-434c-ac73-5caa99552918",
   "metadata": {},
   "outputs": [],
   "source": [
    "fig, ax = plt.subplots(1, len(envs), figsize = (18, 3))\n",
    "\n",
    "ylim = np.amax(loss)*0.5\n",
    "\n",
    "for i, current_loss in enumerate(loss):    \n",
    "    kde = error_kde(current_loss, 100, ylim)\n",
    "    kde = kde / np.amax(kde, axis = 0)[None]\n",
    "    ax[i].imshow(kde, origin = \"lower\", aspect= \"auto\", extent = [0, timesteps, 0, ylim])#, vmin = 0)#, vmax = np.amax(kde))\n",
    "    ax[i].plot(np.mean(current_loss, axis = 0), \"-w\", linewidth = 0.5)\n",
    "    inset_walls(ax[i], walls[envs[i]])\n",
    "    #ax[i].axis(\"off\")\n"
   ]
  },
  {
   "cell_type": "code",
   "execution_count": null,
   "id": "99eaf1bf-2876-4d29-a615-a6da53154235",
   "metadata": {},
   "outputs": [],
   "source": [
    "ny = 50\n",
    "hist = np.zeros((len(envs), ny, timesteps))\n",
    "\n",
    "fig, ax = plt.subplots(1, len(envs), figsize = (18, 3))\n",
    "\n",
    "ybins = np.linspace(0, ylim, ny)\n",
    "xbins = np.linspace(0, timesteps-1, timesteps)\n",
    "timestamps = np.array([xbins for i in range(samples)])\n",
    "\n",
    "for i, current_loss in enumerate(loss):\n",
    "    hist = np.histogram2d( timestamps.ravel(), current_loss.ravel(),bins = [xbins, ybins])[0]\n",
    "    hist /= np.amax(hist, axis = 1, keepdims = True)\n",
    "    ax[i].imshow(hist.T, origin = \"lower\", aspect= \"auto\", extent = [0, timesteps, 0, ylim])#, vmin = 0)#, vmax = np.amax(kde))\n",
    "    ax[i].plot(np.median(current_loss, axis = 0), \"-w\", linewidth = 0.5)\n",
    "    inset_walls(ax[i], walls[envs[i]])"
   ]
  },
  {
   "cell_type": "code",
   "execution_count": null,
   "id": "188b31b1-fc03-4115-8ee9-55c93dd4430f",
   "metadata": {},
   "outputs": [],
   "source": []
  },
  {
   "cell_type": "code",
   "execution_count": null,
   "id": "9fe48434-c214-4315-aa93-88f01190eaa5",
   "metadata": {},
   "outputs": [],
   "source": []
  }
 ],
 "metadata": {
  "kernelspec": {
   "display_name": "Python 3",
   "language": "python",
   "name": "python3"
  },
  "language_info": {
   "codemirror_mode": {
    "name": "ipython",
    "version": 3
   },
   "file_extension": ".py",
   "mimetype": "text/x-python",
   "name": "python",
   "nbconvert_exporter": "python",
   "pygments_lexer": "ipython3",
   "version": "3.9.16"
  }
 },
 "nbformat": 4,
 "nbformat_minor": 5
}
