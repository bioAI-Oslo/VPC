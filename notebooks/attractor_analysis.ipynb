{
 "cells": [
  {
   "cell_type": "code",
   "execution_count": 1,
   "id": "d0668d02-b447-4074-bd21-2391d676d014",
   "metadata": {},
   "outputs": [],
   "source": [
    "import sys\n",
    "sys.path.insert(0, \"../\")\n",
    "sys.path.insert(0, \"../dataset_generation/\")\n",
    "\n",
    "import torch\n",
    "import numpy as np\n",
    "import scipy.signal\n",
    "import matplotlib.pyplot as plt\n",
    "\n",
    "#plt.style.use(\"project_style.mplstyle\")\n",
    "\n",
    "import stats\n",
    "import scipy.stats\n",
    "from tqdm import tqdm\n",
    "import analysis_tools as tools"
   ]
  },
  {
   "cell_type": "code",
   "execution_count": null,
   "id": "5e918885-ad93-46ad-b367-500c582e4d62",
   "metadata": {},
   "outputs": [],
   "source": []
  },
  {
   "cell_type": "code",
   "execution_count": 2,
   "id": "2ceb5647-d15c-4cb0-bc10-51f2088048af",
   "metadata": {},
   "outputs": [],
   "source": [
    "samples = 100\n",
    "timesteps = 400\n",
    "sequence  = [\"square\"]\n",
    "\n",
    "bins = [16,16]"
   ]
  },
  {
   "cell_type": "code",
   "execution_count": 3,
   "id": "a1a7639a-6a89-4ed1-b902-316ffab194df",
   "metadata": {},
   "outputs": [],
   "source": [
    "model_name = \"al1_10_l2_1\"\n",
    "path = f\"../models/{model_name}\"\n",
    "model, params = tools.load_model(path, device = \"cpu\", model_type = \"RNN\")"
   ]
  },
  {
   "cell_type": "code",
   "execution_count": 4,
   "id": "afd853d6-0f84-43f4-91ad-c8f0a1ffc177",
   "metadata": {},
   "outputs": [
    {
     "data": {
      "text/plain": [
       "array([0.e+00, 1.e-06, 1.e-05, 1.e-04, 1.e-03, 1.e-02, 1.e-01, 1.e+00])"
      ]
     },
     "execution_count": 4,
     "metadata": {},
     "output_type": "execute_result"
    }
   ],
   "source": [
    "noise_scales = np.concatenate(([0], np.geomspace(1e-6, 1, 7)))\n",
    "noise_scales"
   ]
  },
  {
   "cell_type": "code",
   "execution_count": 5,
   "id": "741fb392-83c2-4e44-9dbc-406e11d77131",
   "metadata": {},
   "outputs": [
    {
     "data": {
      "text/plain": [
       "(torch.Size([100, 400, 8]),\n",
       " torch.Size([100, 400, 2]),\n",
       " torch.Size([100, 400, 8]),\n",
       " torch.Size([100, 400, 2]))"
      ]
     },
     "execution_count": 5,
     "metadata": {},
     "output_type": "execute_result"
    }
   ],
   "source": [
    "xa, ra, va, ca = tools.test_dataset(samples*[sequence[0]], timesteps, context = params[\"context\"], \n",
    "                                    device = \"cpu\", trajectories = True)\n",
    "xb, rb, vb, cb = tools.test_dataset(samples*[sequence[0]], timesteps, context = params[\"context\"], \n",
    "                                    device = \"cpu\", trajectories = True)"
   ]
  },
  {
   "cell_type": "code",
   "execution_count": 6,
   "id": "a911439d-778f-4b27-99c6-3a9d63f064c0",
   "metadata": {},
   "outputs": [],
   "source": [
    "def time_ratemaps(states, r, bins):\n",
    "    # state.shape = (N, T, Nc)\n",
    "    ratemaps = np.zeros((states.shape[1], states.shape[-1], *bins)).astype(\"float32\")\n",
    "    for i in range(states.shape[1]):\n",
    "        ratemaps[i] = stats.population_vector_ratemaps(states[None,:,i], r[None,:,i], [bins], smooth = True)  \n",
    "    return ratemaps\n",
    "        \n",
    "def autocorr(x):\n",
    "    z = np.zeros((len(x), len(x)))\n",
    "    for i in tqdm(range(len(x))):\n",
    "        for j in range(len(x)):\n",
    "            z[i, j] = np.corrcoef(x[i], x[j])[1,0]\n",
    "    return z"
   ]
  },
  {
   "cell_type": "code",
   "execution_count": 7,
   "id": "96593e0f-3975-487b-9160-dcb8439d3c1d",
   "metadata": {},
   "outputs": [
    {
     "name": "stderr",
     "output_type": "stream",
     "text": [
      "100%|█████████████████████████████████████████████| 8/8 [06:44<00:00, 50.54s/it]\n"
     ]
    }
   ],
   "source": [
    "noisy_gs = []\n",
    "noisy_ps = []\n",
    "noise_corrs = []\n",
    "\n",
    "for i in tqdm(range(len(noise_scales))):\n",
    "    g_prev = None\n",
    "    gs = []\n",
    "    ps = []\n",
    "    errors = []\n",
    "    for x in (xa, xb):\n",
    "        yhat, g, p, mu = model(x, g_prev = g_prev)\n",
    "        noise = torch.normal(0, noise_scales[i], size = g[:,-1].shape)\n",
    "        g_prev = g[:,-1] + noise\n",
    "        g_ratemaps = time_ratemaps(g.detach().numpy(), x[1].detach().numpy(), bins)\n",
    "        p_ratemaps = time_ratemaps(p.detach().numpy(), x[1].detach().numpy(), bins)\n",
    "        gs.append(g_ratemaps.reshape((g_ratemaps.shape[0], -1)))\n",
    "        ps.append(p_ratemaps.reshape((p_ratemaps.shape[0], -1)))\n",
    "\n",
    "    noisy_gs.append(np.concatenate(gs, axis = 0))\n",
    "    noisy_ps.append(np.concatenate(ps, axis = 0))"
   ]
  },
  {
   "cell_type": "code",
   "execution_count": 8,
   "id": "16098c06-8e62-4965-8a67-609c9ee2e28d",
   "metadata": {},
   "outputs": [
    {
     "name": "stderr",
     "output_type": "stream",
     "text": [
      "100%|████████████████████████████████████████| 800/800 [00:05<00:00, 159.51it/s]\n"
     ]
    }
   ],
   "source": [
    "corr = np.zeros(2*timesteps)\n",
    "for i in tqdm(range(noisy_gs[0].shape[0])):\n",
    "    for j in range(0, timesteps, 10):\n",
    "        corr[i] += np.sum(noisy_gs[0][i]*noisy_gs[0][j])"
   ]
  },
  {
   "cell_type": "code",
   "execution_count": null,
   "id": "a8983a22-475d-4200-8156-d704b460eb2c",
   "metadata": {},
   "outputs": [],
   "source": []
  },
  {
   "cell_type": "code",
   "execution_count": null,
   "id": "0867f373-81b5-47e1-ad50-b591ea104846",
   "metadata": {},
   "outputs": [],
   "source": []
  }
 ],
 "metadata": {
  "kernelspec": {
   "display_name": "Python 3 (ipykernel)",
   "language": "python",
   "name": "python3"
  },
  "language_info": {
   "codemirror_mode": {
    "name": "ipython",
    "version": 3
   },
   "file_extension": ".py",
   "mimetype": "text/x-python",
   "name": "python",
   "nbconvert_exporter": "python",
   "pygments_lexer": "ipython3",
   "version": "3.9.9"
  }
 },
 "nbformat": 4,
 "nbformat_minor": 5
}
