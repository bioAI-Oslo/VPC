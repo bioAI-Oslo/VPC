{
 "cells": [
  {
   "cell_type": "code",
   "execution_count": 1,
   "id": "d677c0ce",
   "metadata": {},
   "outputs": [],
   "source": [
    "import sys\n",
    "sys.path.insert(0, \"../\")\n",
    "sys.path.insert(0, \"../dataset_generator/\")\n",
    "\n",
    "import numpy as np\n",
    "import matplotlib.pyplot as plt\n",
    "#import analysis_tools2 as analysis_tools\n",
    "\n",
    "import environments\n",
    "\n",
    "#plt.style.use(\"./project_style.mplstyle\")\n",
    "import matplotlib\n",
    "\n",
    "pane_size = plt.rcParams[\"figure.figsize\"][0]"
   ]
  },
  {
   "cell_type": "code",
   "execution_count": 2,
   "id": "5695812c",
   "metadata": {},
   "outputs": [],
   "source": [
    "train_dataset = np.load(\"../datasets/points/train_dataset.npz\")  # load dataset\n",
    "val_dataset = np.load(\"../datasets/points/val_dataset.npz\")"
   ]
  },
  {
   "cell_type": "markdown",
   "id": "ac5be643-0349-4d91-bbdf-ad95a12ad041",
   "metadata": {},
   "source": [
    "### Metadata"
   ]
  },
  {
   "cell_type": "code",
   "execution_count": 3,
   "id": "54765855-53c5-403b-ac49-4a1246aa69fd",
   "metadata": {},
   "outputs": [
    {
     "name": "stdout",
     "output_type": "stream",
     "text": [
      "Train dataset:\n",
      "Entry:   Shape:          dtype:    \n",
      "r        (12000, 500, 2) float32\n",
      "c        (12000, 500, 6) float32\n",
      "Val dataset:\n",
      "Entry:   Shape:          dtype:    \n",
      "r        (3000, 500, 2)  float32\n",
      "c        (3000, 500, 6)  float32\n"
     ]
    }
   ],
   "source": [
    "for name, dataset in zip((\"Train\", \"Val\"), (train_dataset, val_dataset)):\n",
    "    print(f\"{name} dataset:\")\n",
    "    print(f\"{'Entry:':8} {'Shape:':15} {'dtype:':10}\")\n",
    "    for var in dataset:\n",
    "        print(f\"{var:8} {str(dataset[var].shape):15} {dataset[var].dtype}\")"
   ]
  },
  {
   "cell_type": "markdown",
   "id": "9809158a-c0b8-44f6-ae47-04542a88b5b3",
   "metadata": {},
   "source": [
    "### Plot Random Example Trajectories"
   ]
  },
  {
   "cell_type": "code",
   "execution_count": 4,
   "id": "d49e8900-16ca-4796-8fd9-6c2b7030ae53",
   "metadata": {},
   "outputs": [
    {
     "ename": "NameError",
     "evalue": "name 'analysis_tools' is not defined",
     "output_type": "error",
     "traceback": [
      "\u001b[0;31m---------------------------------------------------------------------------\u001b[0m",
      "\u001b[0;31mNameError\u001b[0m                                 Traceback (most recent call last)",
      "Cell \u001b[0;32mIn[4], line 23\u001b[0m\n\u001b[1;32m     20\u001b[0m             axs[row,col]\u001b[38;5;241m.\u001b[39mplot(wall[:,\u001b[38;5;241m0\u001b[39m], wall[:,\u001b[38;5;241m1\u001b[39m], \u001b[38;5;124m\"\u001b[39m\u001b[38;5;124mk\u001b[39m\u001b[38;5;124m\"\u001b[39m)\n\u001b[1;32m     22\u001b[0m env \u001b[38;5;241m=\u001b[39m environments\u001b[38;5;241m.\u001b[39mEnvironments()\n\u001b[0;32m---> 23\u001b[0m \u001b[43mplot_collage\u001b[49m\u001b[43m(\u001b[49m\u001b[43menv\u001b[49m\u001b[43m)\u001b[49m\n\u001b[1;32m     24\u001b[0m plt\u001b[38;5;241m.\u001b[39msubplots_adjust(wspace\u001b[38;5;241m=\u001b[39m\u001b[38;5;241m-\u001b[39m\u001b[38;5;241m0.1\u001b[39m, hspace\u001b[38;5;241m=\u001b[39m\u001b[38;5;241m-\u001b[39m\u001b[38;5;241m0.05\u001b[39m) \n\u001b[1;32m     25\u001b[0m plt\u001b[38;5;241m.\u001b[39msavefig(\u001b[38;5;124mf\u001b[39m\u001b[38;5;124m\"\u001b[39m\u001b[38;5;124mfigures/environment_collage\u001b[39m\u001b[38;5;124m\"\u001b[39m)            \n",
      "Cell \u001b[0;32mIn[4], line 10\u001b[0m, in \u001b[0;36mplot_collage\u001b[0;34m(environments)\u001b[0m\n\u001b[1;32m      8\u001b[0m cols \u001b[38;5;241m=\u001b[39m \u001b[38;5;241m3\u001b[39m\n\u001b[1;32m      9\u001b[0m fig, axs \u001b[38;5;241m=\u001b[39m plt\u001b[38;5;241m.\u001b[39msubplots(rows,cols, figsize \u001b[38;5;241m=\u001b[39m (pane_size\u001b[38;5;241m*\u001b[39m\u001b[38;5;241m1.25\u001b[39m, pane_size\u001b[38;5;241m*\u001b[39m\u001b[38;5;241m1.25\u001b[39m))\n\u001b[0;32m---> 10\u001b[0m _, r, _, c \u001b[38;5;241m=\u001b[39m \u001b[43manalysis_tools\u001b[49m\u001b[38;5;241m.\u001b[39mtest_dataset(collage, \u001b[38;5;241m500\u001b[39m, context \u001b[38;5;241m=\u001b[39m \u001b[38;5;28;01mTrue\u001b[39;00m) \u001b[38;5;66;03m# create dataset\u001b[39;00m\n\u001b[1;32m     11\u001b[0m \u001b[38;5;28;01mfor\u001b[39;00m i \u001b[38;5;129;01min\u001b[39;00m \u001b[38;5;28mrange\u001b[39m(\u001b[38;5;28mlen\u001b[39m(collage)):\n\u001b[1;32m     12\u001b[0m     row \u001b[38;5;241m=\u001b[39m i \u001b[38;5;241m/\u001b[39m\u001b[38;5;241m/\u001b[39m rows\n",
      "\u001b[0;31mNameError\u001b[0m: name 'analysis_tools' is not defined"
     ]
    },
    {
     "data": {
      "image/png": "[encoded data removed]",
      "text/plain": [
       "<Figure size 576x576 with 9 Axes>"
      ]
     },
     "metadata": {
      "needs_background": "light"
     },
     "output_type": "display_data"
    }
   ],
   "source": [
    "def plot_collage(environments):\n",
    "        \n",
    "    collage = [\"square\", \"circle\", \"walled_square\", \n",
    "               \"circle\", \"large_square\", \"circle\",\n",
    "               \"walled_square\", \"rectangle\", \"square_toroid\"]\n",
    "    \n",
    "    rows = 3\n",
    "    cols = 3\n",
    "    fig, axs = plt.subplots(rows,cols, figsize = (pane_size*1.25, pane_size*1.25))\n",
    "    _, r, _, c = analysis_tools.test_dataset(collage, 500, context = True) # create dataset\n",
    "    for i in range(len(collage)):\n",
    "        row = i // rows\n",
    "        col = i % cols\n",
    "        axs[row,col].plot(r[i,:,0], r[i,:,1], linewidth = 0.5)\n",
    "        lim = np.amax(np.abs(r))*1.1\n",
    "        axs[row,col].axis([-lim, lim, -lim, lim])\n",
    "        axs[row,col].axis(\"off\")\n",
    "\n",
    "        for wall in environments.envs[collage[i]]*1.05:\n",
    "            axs[row,col].plot(wall[:,0], wall[:,1], \"k\")\n",
    "            \n",
    "env = environments.Environments()\n",
    "plot_collage(env)\n",
    "plt.subplots_adjust(wspace=-0.1, hspace=-0.05) \n",
    "plt.savefig(f\"figures/environment_collage\")            \n"
   ]
  },
  {
   "cell_type": "markdown",
   "id": "ab0a8c36-75e9-49a4-a32e-3c2a8aaf8a64",
   "metadata": {},
   "source": [
    "### Inspect speed distributions "
   ]
  },
  {
   "cell_type": "code",
   "execution_count": 5,
   "id": "ae756566-bc67-42c1-bdb9-83d2cd3fc90c",
   "metadata": {},
   "outputs": [
    {
     "ename": "KeyError",
     "evalue": "'v is not a file in the archive'",
     "output_type": "error",
     "traceback": [
      "\u001b[0;31m---------------------------------------------------------------------------\u001b[0m",
      "\u001b[0;31mKeyError\u001b[0m                                  Traceback (most recent call last)",
      "Cell \u001b[0;32mIn[5], line 2\u001b[0m\n\u001b[1;32m      1\u001b[0m r_train \u001b[38;5;241m=\u001b[39m train_dataset[\u001b[38;5;124m\"\u001b[39m\u001b[38;5;124mr\u001b[39m\u001b[38;5;124m\"\u001b[39m][:]\n\u001b[0;32m----> 2\u001b[0m v_train \u001b[38;5;241m=\u001b[39m \u001b[43mtrain_dataset\u001b[49m\u001b[43m[\u001b[49m\u001b[38;5;124;43m\"\u001b[39;49m\u001b[38;5;124;43mv\u001b[39;49m\u001b[38;5;124;43m\"\u001b[39;49m\u001b[43m]\u001b[49m[:]\n\u001b[1;32m      3\u001b[0m c_train \u001b[38;5;241m=\u001b[39m train_dataset[\u001b[38;5;124m\"\u001b[39m\u001b[38;5;124mc\u001b[39m\u001b[38;5;124m\"\u001b[39m][:]\n\u001b[1;32m      4\u001b[0m s_train \u001b[38;5;241m=\u001b[39m np\u001b[38;5;241m.\u001b[39mlinalg\u001b[38;5;241m.\u001b[39mnorm(v_train, axis \u001b[38;5;241m=\u001b[39m \u001b[38;5;241m-\u001b[39m\u001b[38;5;241m1\u001b[39m)\n",
      "File \u001b[0;32m~/miniforge3/envs/ml/lib/python3.9/site-packages/numpy/lib/npyio.py:260\u001b[0m, in \u001b[0;36mNpzFile.__getitem__\u001b[0;34m(self, key)\u001b[0m\n\u001b[1;32m    258\u001b[0m         \u001b[38;5;28;01mreturn\u001b[39;00m \u001b[38;5;28mself\u001b[39m\u001b[38;5;241m.\u001b[39mzip\u001b[38;5;241m.\u001b[39mread(key)\n\u001b[1;32m    259\u001b[0m \u001b[38;5;28;01melse\u001b[39;00m:\n\u001b[0;32m--> 260\u001b[0m     \u001b[38;5;28;01mraise\u001b[39;00m \u001b[38;5;167;01mKeyError\u001b[39;00m(\u001b[38;5;124m\"\u001b[39m\u001b[38;5;132;01m%s\u001b[39;00m\u001b[38;5;124m is not a file in the archive\u001b[39m\u001b[38;5;124m\"\u001b[39m \u001b[38;5;241m%\u001b[39m key)\n",
      "\u001b[0;31mKeyError\u001b[0m: 'v is not a file in the archive'"
     ]
    }
   ],
   "source": [
    "r_train = train_dataset[\"r\"][:]\n",
    "v_train = train_dataset[\"v\"][:]\n",
    "c_train = train_dataset[\"c\"][:]\n",
    "s_train = np.linalg.norm(v_train, axis = -1)\n",
    "\n",
    "labels = [\"Square\", \"Circle\", \"Large Square\", \"Rectangle\", \"Walled Square\", \"Square Toroid\"]\n",
    "\n",
    "# env id is index of first non-zero element\n",
    "env_id = np.argmax(c_train[:,0], axis = -1)\n",
    "\n",
    "fig, ax =  plt.subplots(1, figsize = (pane_size, pane_size))\n",
    "ax.hist(s_train.ravel(), bins = 40, density = True, alpha = 0.75)\n",
    "ax.axis([0, 2, 0, 1.5])\n",
    "ax.set_xlabel(\"Speed\")\n",
    "ax.set_ylabel(\"Density\")\n",
    "plt.subplots_adjust(wspace =0, hspace = 0)\n",
    "plt.tight_layout()\n",
    "#plt.savefig(\"figures/speed_distribution\")"
   ]
  },
  {
   "cell_type": "code",
   "execution_count": null,
   "id": "e544b657-45d2-4fe6-9218-f757a0dcd64c",
   "metadata": {},
   "outputs": [],
   "source": []
  },
  {
   "cell_type": "markdown",
   "id": "738432d4-e4f7-4b21-9798-0e62f6ba3c84",
   "metadata": {},
   "source": [
    "### And distribution of head directions"
   ]
  },
  {
   "cell_type": "code",
   "execution_count": 6,
   "id": "9f0cddb1-87c3-4587-959d-6ebfd6dd68e5",
   "metadata": {},
   "outputs": [
    {
     "ename": "NameError",
     "evalue": "name 'v_train' is not defined",
     "output_type": "error",
     "traceback": [
      "\u001b[0;31m---------------------------------------------------------------------------\u001b[0m",
      "\u001b[0;31mNameError\u001b[0m                                 Traceback (most recent call last)",
      "Cell \u001b[0;32mIn[6], line 1\u001b[0m\n\u001b[0;32m----> 1\u001b[0m hd_train \u001b[38;5;241m=\u001b[39m np\u001b[38;5;241m.\u001b[39marctan2(\u001b[43mv_train\u001b[49m[\u001b[38;5;241m.\u001b[39m\u001b[38;5;241m.\u001b[39m\u001b[38;5;241m.\u001b[39m,\u001b[38;5;241m1\u001b[39m], v_train[\u001b[38;5;241m.\u001b[39m\u001b[38;5;241m.\u001b[39m\u001b[38;5;241m.\u001b[39m,\u001b[38;5;241m0\u001b[39m])\n\u001b[1;32m      3\u001b[0m \u001b[38;5;66;03m# hist expects left edge of first bin, right egde of last\u001b[39;00m\n\u001b[1;32m      4\u001b[0m theta \u001b[38;5;241m=\u001b[39m np\u001b[38;5;241m.\u001b[39mlinspace(\u001b[38;5;241m-\u001b[39mnp\u001b[38;5;241m.\u001b[39mpi, np\u001b[38;5;241m.\u001b[39mpi, \u001b[38;5;241m100\u001b[39m) \n",
      "\u001b[0;31mNameError\u001b[0m: name 'v_train' is not defined"
     ]
    }
   ],
   "source": [
    "hd_train = np.arctan2(v_train[...,1], v_train[...,0])\n",
    "\n",
    "# hist expects left edge of first bin, right egde of last\n",
    "theta = np.linspace(-np.pi, np.pi, 100) \n",
    "fig = plt.figure(figsize = (3/2*pane_size, pane_size))\n",
    "eval_theta = theta[:-1] + (theta[1]-theta[0])/2 # evaluate at bin centers\n",
    "\n",
    "for i in range(c_train.shape[-1]):\n",
    "    mask = env_id == i\n",
    "    \n",
    "    ax = plt.subplot(2, 3, i+1, polar = True)\n",
    "    ax.set_title(labels[i])\n",
    "    \n",
    "    hist, _ = np.histogram(hd_train[mask].ravel(), bins = theta, density = True)\n",
    "    ax.plot(eval_theta, hist, \"-\", alpha = 0.75,linewidth = 2)\n",
    "    ax.set_yticks([0.05, 0.25])\n",
    "    ax.set_xticklabels([])\n",
    "    \n",
    "plt.subplots_adjust(wspace=0.5, hspace=0.3)\n",
    "#plt.savefig(\"figures/hd_distributions.svg\")"
   ]
  },
  {
   "cell_type": "markdown",
   "id": "cbeccbb9-6abe-4168-981f-094007691a63",
   "metadata": {},
   "source": [
    "### Lastly, we inspect the visitation distributions"
   ]
  },
  {
   "cell_type": "code",
   "execution_count": 7,
   "id": "dfb1cc33-0789-4376-8acd-f7a1fe6758b6",
   "metadata": {},
   "outputs": [
    {
     "ename": "NameError",
     "evalue": "name 'c_train' is not defined",
     "output_type": "error",
     "traceback": [
      "\u001b[0;31m---------------------------------------------------------------------------\u001b[0m",
      "\u001b[0;31mNameError\u001b[0m                                 Traceback (most recent call last)",
      "Cell \u001b[0;32mIn[7], line 3\u001b[0m\n\u001b[1;32m      1\u001b[0m fig \u001b[38;5;241m=\u001b[39m  plt\u001b[38;5;241m.\u001b[39mfigure(figsize \u001b[38;5;241m=\u001b[39m (\u001b[38;5;241m3\u001b[39m\u001b[38;5;241m/\u001b[39m\u001b[38;5;241m2\u001b[39m\u001b[38;5;241m*\u001b[39mpane_size, pane_size))\n\u001b[0;32m----> 3\u001b[0m env_id \u001b[38;5;241m=\u001b[39m np\u001b[38;5;241m.\u001b[39margmax(\u001b[43mc_train\u001b[49m[:,\u001b[38;5;241m0\u001b[39m], axis \u001b[38;5;241m=\u001b[39m \u001b[38;5;241m-\u001b[39m\u001b[38;5;241m1\u001b[39m) \u001b[38;5;66;03m# env id is index of first non-zero element\u001b[39;00m\n\u001b[1;32m      5\u001b[0m bins \u001b[38;5;241m=\u001b[39m np\u001b[38;5;241m.\u001b[39mlinspace(\u001b[38;5;241m-\u001b[39m\u001b[38;5;241m1.5\u001b[39m, \u001b[38;5;241m1.5\u001b[39m, \u001b[38;5;241m100\u001b[39m)\u001b[38;5;241m*\u001b[39m\u001b[38;5;241m1.1\u001b[39m\n\u001b[1;32m      7\u001b[0m \u001b[38;5;28;01mfor\u001b[39;00m i \u001b[38;5;129;01min\u001b[39;00m \u001b[38;5;28mrange\u001b[39m(c_train\u001b[38;5;241m.\u001b[39mshape[\u001b[38;5;241m-\u001b[39m\u001b[38;5;241m1\u001b[39m]):\n",
      "\u001b[0;31mNameError\u001b[0m: name 'c_train' is not defined"
     ]
    },
    {
     "data": {
      "text/plain": [
       "<Figure size 691.2x460.8 with 0 Axes>"
      ]
     },
     "metadata": {},
     "output_type": "display_data"
    }
   ],
   "source": [
    "fig =  plt.figure(figsize = (3/2*pane_size, pane_size))\n",
    "\n",
    "env_id = np.argmax(c_train[:,0], axis = -1) # env id is index of first non-zero element\n",
    "\n",
    "bins = np.linspace(-1.5, 1.5, 100)*1.1\n",
    "\n",
    "for i in range(c_train.shape[-1]):\n",
    "    mask = list(env_id == i)\n",
    "    ax = fig.add_subplot(2, 3, i+1)\n",
    "    u = r_train[mask]\n",
    "    hist = np.histogram2d(r_train[mask][...,0].ravel(), r_train[mask][...,1].ravel(), bins)[0]\n",
    "    hist[hist == 0] = np.nan\n",
    "\n",
    "    if i == 0:\n",
    "        vmax = np.nanmax(hist) # calibrate wrt. small quare\n",
    "\n",
    "    im = ax.imshow(hist.T, origin = \"upper\", vmin = 0, vmax = vmax)\n",
    "\n",
    "    ax.set_title(labels[i])\n",
    "    ax.axis(\"off\")\n",
    "    \n",
    "plt.subplots_adjust(wspace=0.5, hspace=0.05) \n",
    "#plt.savefig(\"figures/visitation_density\")"
   ]
  },
  {
   "cell_type": "code",
   "execution_count": 8,
   "id": "9a9db4f4-ba4b-45bc-ae50-c111e6bea85c",
   "metadata": {},
   "outputs": [
    {
     "ename": "NameError",
     "evalue": "name 'im' is not defined",
     "output_type": "error",
     "traceback": [
      "\u001b[0;31m---------------------------------------------------------------------------\u001b[0m",
      "\u001b[0;31mNameError\u001b[0m                                 Traceback (most recent call last)",
      "Cell \u001b[0;32mIn[8], line 4\u001b[0m\n\u001b[1;32m      1\u001b[0m cbar_fig \u001b[38;5;241m=\u001b[39m plt\u001b[38;5;241m.\u001b[39mfigure(figsize \u001b[38;5;241m=\u001b[39m (pane_size\u001b[38;5;241m*\u001b[39m\u001b[38;5;241m0.5\u001b[39m, pane_size\u001b[38;5;241m*\u001b[39m\u001b[38;5;241m0.5\u001b[39m))\n\u001b[1;32m      2\u001b[0m ax \u001b[38;5;241m=\u001b[39m plt\u001b[38;5;241m.\u001b[39msubplot(\u001b[38;5;241m111\u001b[39m)\n\u001b[0;32m----> 4\u001b[0m cbar \u001b[38;5;241m=\u001b[39m fig\u001b[38;5;241m.\u001b[39mcolorbar(\u001b[43mim\u001b[49m, ax \u001b[38;5;241m=\u001b[39m ax, shrink \u001b[38;5;241m=\u001b[39m \u001b[38;5;241m1\u001b[39m, location \u001b[38;5;241m=\u001b[39m \u001b[38;5;124m\"\u001b[39m\u001b[38;5;124mbottom\u001b[39m\u001b[38;5;124m\"\u001b[39m, ticks \u001b[38;5;241m=\u001b[39m [\u001b[38;5;241m0\u001b[39m, \u001b[38;5;241m0.2\u001b[39m, \u001b[38;5;241m0.4\u001b[39m])\n\u001b[1;32m      5\u001b[0m ax\u001b[38;5;241m.\u001b[39maxis(\u001b[38;5;124m\"\u001b[39m\u001b[38;5;124moff\u001b[39m\u001b[38;5;124m\"\u001b[39m)\n\u001b[1;32m      6\u001b[0m \u001b[38;5;66;03m#plt.savefig(\"figures/visitation_density_cbar\")\u001b[39;00m\n",
      "\u001b[0;31mNameError\u001b[0m: name 'im' is not defined"
     ]
    },
    {
     "data": {
      "image/png": "[encoded data removed]",
      "text/plain": [
       "<Figure size 230.4x230.4 with 1 Axes>"
      ]
     },
     "metadata": {
      "needs_background": "light"
     },
     "output_type": "display_data"
    }
   ],
   "source": [
    "cbar_fig = plt.figure(figsize = (pane_size*0.5, pane_size*0.5))\n",
    "ax = plt.subplot(111)\n",
    "\n",
    "cbar = fig.colorbar(im, ax = ax, shrink = 1, location = \"bottom\", ticks = [0, 0.2, 0.4])\n",
    "ax.axis(\"off\")\n",
    "#plt.savefig(\"figures/visitation_density_cbar\")"
   ]
  },
  {
   "cell_type": "code",
   "execution_count": null,
   "id": "b1f2cff4-2f8a-4ea1-aab2-b683b370de83",
   "metadata": {},
   "outputs": [],
   "source": []
  },
  {
   "cell_type": "code",
   "execution_count": null,
   "id": "92bf18d0-f673-4264-8c7d-ecffdf1642d1",
   "metadata": {},
   "outputs": [],
   "source": []
  }
 ],
 "metadata": {
  "kernelspec": {
   "display_name": "Python 3",
   "language": "python",
   "name": "python3"
  },
  "language_info": {
   "codemirror_mode": {
    "name": "ipython",
    "version": 3
   },
   "file_extension": ".py",
   "mimetype": "text/x-python",
   "name": "python",
   "nbconvert_exporter": "python",
   "pygments_lexer": "ipython3",
   "version": "3.9.16"
  }
 },
 "nbformat": 4,
 "nbformat_minor": 5
}
