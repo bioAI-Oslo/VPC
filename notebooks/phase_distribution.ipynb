{
 "cells": [
  {
   "cell_type": "code",
   "execution_count": 1,
   "id": "1d727fb7-7c41-4902-9138-05e451cc89bb",
   "metadata": {},
   "outputs": [],
   "source": [
    "%matplotlib inline"
   ]
  },
  {
   "cell_type": "code",
   "execution_count": 2,
   "id": "c33deece-4658-4971-98a1-e0c5ec64c4db",
   "metadata": {},
   "outputs": [],
   "source": [
    "import sys\n",
    "sys.path.insert(0, \"../\")\n",
    "sys.path.insert(0, \"../dataset_generator/\")\n",
    "\n",
    "import torch\n",
    "import numpy as np\n",
    "import matplotlib\n",
    "import matplotlib.pyplot as plt\n",
    "\n",
    "plt.style.use(\"project_style.mplstyle\")\n",
    "from tqdm import tqdm\n",
    "import scipy\n",
    "\n",
    "import environments\n",
    "import analysis_tools"
   ]
  },
  {
   "cell_type": "code",
   "execution_count": 3,
   "id": "430b47b0-ec6e-4d7e-8587-c7017b2e3f2f",
   "metadata": {},
   "outputs": [],
   "source": [
    "if trajectories := True:\n",
    "    model_type = \"RNN\"\n",
    "else:\n",
    "    model_type = \"FF\"\n",
    "    \n",
    "path = f\"../models/al1_10_l2_0\"\n",
    "model, params = analysis_tools.load_model(path, device = \"cpu\", model_type = model_type) # model of interest\n",
    "timesteps = 30000 # timesteps per sequence\n",
    "samples = 75# of samples for each environment"
   ]
  },
  {
   "cell_type": "code",
   "execution_count": 4,
   "id": "fbd275da-321b-4cf9-ba8a-485ac1458058",
   "metadata": {},
   "outputs": [],
   "source": [
    "envs = environments.Environments()\n",
    "envs = list(envs.envs) # :)"
   ]
  },
  {
   "cell_type": "code",
   "execution_count": 5,
   "id": "7855f91d",
   "metadata": {},
   "outputs": [],
   "source": [
    "burn_in = 500"
   ]
  },
  {
   "cell_type": "code",
   "execution_count": null,
   "id": "7c81f849-a8b6-4ffc-b87d-4099a3533bf9",
   "metadata": {},
   "outputs": [
    {
     "name": "stderr",
     "output_type": "stream",
     "text": [
      "  0%|                                                                                                                                                                                                                                               | 0/6 [00:00<?, ?it/s]/home/m/Documents/phd/VPC/notebooks/stats.py:73: RuntimeWarning: invalid value encountered in divide\n",
      "  spatial_information = np.nansum(occupancy*mean_bin_rate*np.log2(mean_bin_rate/mean_rate[:,None,None]), axis = (1, 2))\n",
      "/home/m/Documents/phd/VPC/notebooks/stats.py:73: RuntimeWarning: divide by zero encountered in log2\n",
      "  spatial_information = np.nansum(occupancy*mean_bin_rate*np.log2(mean_bin_rate/mean_rate[:,None,None]), axis = (1, 2))\n",
      "/home/m/Documents/phd/VPC/notebooks/stats.py:73: RuntimeWarning: invalid value encountered in multiply\n",
      "  spatial_information = np.nansum(occupancy*mean_bin_rate*np.log2(mean_bin_rate/mean_rate[:,None,None]), axis = (1, 2))\n",
      " 17%|██████████████████████████████████████                                                                                                                                                                                              | 1/6 [13:26<1:07:10, 806.14s/it]"
     ]
    }
   ],
   "source": [
    "centers = np.zeros((len(envs), samples, params[\"outputs\"], 2))\n",
    "\n",
    "high_si_centers = []\n",
    "si_masks = []\n",
    "masks = []\n",
    "\n",
    "states = np.zeros(())\n",
    "for i, env in enumerate(tqdm(envs)):\n",
    "    sequence = samples*[env] # sample environment several times\n",
    "    x, r, v, c = analysis_tools.test_dataset(sequence, timesteps = timesteps, \n",
    "                                             context = params[\"context\"], trajectories = trajectories)\n",
    "    dataset = [((x[0][i,None], x[1][i,None]), x[1][i,None]) for i in range(len(sequence))] # repackage\n",
    "    \n",
    "    g, p, current_centers, preds = model.inference(dataset)\n",
    "    centers[i] = current_centers\n",
    "    \n",
    "    mask, info = analysis_tools.spatial_information_selection(p, r, [32, 32]*len(p));\n",
    "    si_masks.append(mask)\n",
    "    high_si_centers.append(current_centers[:,mask])\n",
    "    ###############################################\n",
    "    mask = np.amin(np.amax(p[:, burn_in:], axis = -2), axis = 0) > 0\n",
    "    masks.append(mask)"
   ]
  },
  {
   "cell_type": "code",
   "execution_count": null,
   "id": "ebfe98b9-d7da-4b0b-9124-69f99399cc60",
   "metadata": {},
   "outputs": [],
   "source": [
    "#nonzero_centers = [centers[i, np.linalg.norm(centers[i], axis=-1) > 1e-2] for i in range(len(centers))]\n",
    "nonzero_centers = high_si_centers\n",
    "#nonzero_centers = centers\n",
    "\n",
    "#nonzero_centers = [centers[i,:, masks[i]] for i in range(len(centers))]\n",
    "#centers[0].shape, masks[i].sum()"
   ]
  },
  {
   "cell_type": "code",
   "execution_count": null,
   "id": "7997126b-b7ee-4fb5-ab6c-18d84e4206ae",
   "metadata": {},
   "outputs": [],
   "source": [
    "lims = np.array([-1.5, 1.5, -1.5, 1.5])*1.05\n",
    "centers.shape, nonzero_centers[0].shape"
   ]
  },
  {
   "cell_type": "code",
   "execution_count": null,
   "id": "8adcd311-1c08-434a-a15f-a0553ef73d40",
   "metadata": {},
   "outputs": [],
   "source": [
    "for i, cent in enumerate(nonzero_centers):\n",
    "    plt.figure(figsize = (3,3))\n",
    "    plt.plot(cent[...,0], cent[...,1], \"k.\", alpha = 0.65)\n",
    "    plt.axis(\"equal\")\n",
    "    plt.axis(\"off\")\n",
    "    #plt.savefig(f\"./figures/{envs[i]}_phases\")\n",
    "    plt.show()"
   ]
  },
  {
   "cell_type": "code",
   "execution_count": null,
   "id": "0ded47d8-c4ac-4347-95ab-038c32eadd00",
   "metadata": {
    "tags": []
   },
   "outputs": [],
   "source": [
    "nr = 200\n",
    "xx = np.linspace(-1.6, 1.6, nr)\n",
    "lims = np.array([xx[0], xx[-1], xx[0], xx[-1]])\n",
    "\n",
    "xx, yy = np.meshgrid(xx,xx)\n",
    "r_eval = np.stack([xx.ravel(), yy.ravel()],axis=-1)\n",
    "\n",
    "#xc = nonzero_centers[...,0].reshape(centers.shape[0], -1)\n",
    "#yc = noncero_centers[...,1].reshape(centers.shape[0], -1)\n",
    "bins = [np.linspace(-1.5, 1.5, 64)]*2\n",
    "\n",
    "for i in range(len(xc)):\n",
    "    xc = nonzero_centers[i][...,0].ravel()\n",
    "    yc = nonzero_centers[i][...,1].ravel()\n",
    "\n",
    "    hist = np.histogram2d(xc, yc, bins = bins)[0]\n",
    "    plt.imshow(hist.T, origin = \"lower\", cmap = \"binary\")\n",
    "    plt.axis(\"off\")\n",
    "    #plt.savefig(f\"./figures/{envs[i]}_phases\")\n",
    "\n",
    "    plt.show()\n",
    "    \n"
   ]
  },
  {
   "cell_type": "code",
   "execution_count": null,
   "id": "7433c24c-fe31-4fd1-9f39-757cd6096c4d",
   "metadata": {},
   "outputs": [],
   "source": [
    "nb = 30\n",
    "lims = np.array([-1.5, 1.5, 1.5, -1.5])*2\n",
    "\n",
    "theta_bins = np.linspace(-np.pi, np.pi, nb)\n",
    "fig, ax = plt.subplots(6,6,figsize = (10,10))\n",
    "for i, a in enumerate(centers):\n",
    "    for j, b in enumerate(centers):\n",
    "        joint_mask = (si_masks[i]*si_masks[j]).astype(\"bool\")\n",
    "        diff = b[:,joint_mask] - a[:,joint_mask]\n",
    "        if i <j:\n",
    "            ax[i, j % 6].plot(diff[...,0], diff[...,1], \"ok\", alpha = 0.1)    \n",
    "            ax[i, j % 6].axis(lims)\n",
    "        else:\n",
    "            ax[i, j % 6].axis(\"off\")\n",
    "            \n",
    "#fig.savefig(f\"./figures/high_si_shifts\")"
   ]
  },
  {
   "cell_type": "code",
   "execution_count": null,
   "id": "b719c49c-3346-4d1b-9a69-f0b31c8b624f",
   "metadata": {},
   "outputs": [],
   "source": [
    "nb = 30\n",
    "lims = np.array([-1.5, 1.5, 1.5, -1.5])*2\n",
    "\n",
    "theta_bins = np.linspace(-np.pi, np.pi, nb)\n",
    "fig, ax = plt.subplots(6,6,figsize = (10,10))\n",
    "for i, a in enumerate(centers):\n",
    "    for j, b in enumerate(centers):\n",
    "        diff = b - a\n",
    "        if i <j:\n",
    "            ax[i, j % 6].plot(diff[...,0], diff[...,1], \"ok\", alpha = 0.1)    \n",
    "            ax[i, j % 6].axis(lims)\n",
    "        else:\n",
    "            ax[i, j % 6].axis(\"off\")\n",
    "            \n",
    "#fig.savefig(f\"./figures/all_shifts\")\n"
   ]
  },
  {
   "cell_type": "code",
   "execution_count": null,
   "id": "a9584d80-bac7-443d-adb4-1aaa8fe1090f",
   "metadata": {
    "tags": []
   },
   "outputs": [],
   "source": [
    "nb = 30\n",
    "lims = np.array([-1.5, 1.5, 1.5, -1.5])*1.1\n",
    "\n",
    "theta_bins = np.linspace(-np.pi, np.pi, nb)\n",
    "fig, ax = plt.subplots(6,6,figsize = (10,10))\n",
    "\n",
    "def spatial_rgb(pos):\n",
    "    lim = np.amax(np.abs(pos))\n",
    "    \n",
    "    shifted = (pos - np.amin(pos))/(np.amax(pos) - np.amin(pos))\n",
    "    # scale to (0, 1)\n",
    "    \n",
    "    col_r = shifted[...,0]\n",
    "    col_b = shifted[...,1]\n",
    "    col_g = np.zeros(col_b.shape)\n",
    "    rgb = np.stack((col_r, col_g, col_b), axis = -1)\n",
    "    return rgb\n",
    "\n",
    "s = 1\n",
    "alpha = 0.3\n",
    "\n",
    "for i, a in enumerate(centers):\n",
    "    for j, b in enumerate(centers):\n",
    "\n",
    "        ax[i, j % 6].axis(lims)\n",
    "        ax[i, j % 6].set_aspect(\"equal\")\n",
    "        ax[i, j % 6].axis(\"off\")\n",
    "        \n",
    "        colors = spatial_rgb(a)\n",
    "        c = colors[:,:]\n",
    "        c = c.reshape(-1, 3)\n",
    "        \n",
    "        if i == j:\n",
    "            ax[i, j % 6].scatter(a[:,:,0].ravel(), a[:,:,1].ravel(), c = c, s = s, alpha = alpha, edgecolor = \"None\")\n",
    "\n",
    "        if j % 6 > i:\n",
    "            ax[i, j % 6].scatter(b[:,:,0].ravel(), b[:,:,1].ravel(), c = c, s = s, alpha = alpha, edgecolor = \"None\")\n",
    "        #if j % 6 < i:\n",
    "        #    ax[i, j % 6].scatter(a[:,joint_mask,0].ravel(), a[:,joint_mask,1].ravel(), c = c)\n",
    "        \n",
    "plt.subplots_adjust(wspace = 0, hspace = -0.1)\n",
    "#fig.savefig(f\"./figures/track_color\")"
   ]
  },
  {
   "cell_type": "code",
   "execution_count": null,
   "id": "cfc1b069-63a4-45af-a9fe-75211b9e6a71",
   "metadata": {
    "tags": []
   },
   "outputs": [],
   "source": [
    "nb = 30\n",
    "lims = np.array([-1.5, 1.5, 1.5, -1.5])*1.1\n",
    "\n",
    "theta_bins = np.linspace(-np.pi, np.pi, nb)\n",
    "fig, ax = plt.subplots(6,6,figsize = (10,10))\n",
    "\n",
    "def spatial_rgb(pos):\n",
    "    lim = np.amax(np.abs(pos))\n",
    "    \n",
    "    shifted = (pos - np.amin(pos))/(np.amax(pos) - np.amin(pos))\n",
    "    # scale to (0, 1)\n",
    "    \n",
    "    col_r = shifted[...,0]\n",
    "    col_b = shifted[...,1]\n",
    "    col_g = np.zeros(col_b.shape)\n",
    "    rgb = np.stack((col_r, col_g, col_b), axis = -1)\n",
    "    return rgb\n",
    "\n",
    "s = 2\n",
    "alpha = 0.3\n",
    "\n",
    "for i, a in enumerate(centers):\n",
    "    for j, b in enumerate(centers):\n",
    "        joint_mask = si_masks[i] # plot units that have high SI in a\n",
    "\n",
    "        ax[i, j % 6].axis(lims)\n",
    "        ax[i, j % 6].set_aspect(\"equal\")\n",
    "        ax[i, j % 6].axis(\"off\")\n",
    "        \n",
    "        colors = spatial_rgb(a)\n",
    "        c = colors[:,joint_mask]\n",
    "        c = c.reshape(-1, 3)\n",
    "        \n",
    "        if i == j:\n",
    "            ax[i, j % 6].scatter(a[:,joint_mask,0].ravel(), a[:,joint_mask,1].ravel(), c = c, s = s, alpha = alpha, edgecolor = \"None\")\n",
    "\n",
    "        if j % 6 > i:\n",
    "            ax[i, j % 6].scatter(b[:,joint_mask,0].ravel(), b[:,joint_mask,1].ravel(), c = c, s = s, alpha = alpha, edgecolor = \"None\")\n",
    "        #if j % 6 < i:\n",
    "        #    ax[i, j % 6].scatter(a[:,joint_mask,0].ravel(), a[:,joint_mask,1].ravel(), c = c)\n",
    "        \n",
    "plt.subplots_adjust(wspace = 0, hspace = -0.1)\n",
    "#fig.savefig(f\"./figures/track_color_high_si\")\n"
   ]
  },
  {
   "cell_type": "code",
   "execution_count": null,
   "id": "dadeff9a-64d0-47d5-b4d9-9a0d056f39e9",
   "metadata": {},
   "outputs": [],
   "source": []
  }
 ],
 "metadata": {
  "kernelspec": {
   "display_name": "Python 3 (ipykernel)",
   "language": "python",
   "name": "python3"
  },
  "language_info": {
   "codemirror_mode": {
    "name": "ipython",
    "version": 3
   },
   "file_extension": ".py",
   "mimetype": "text/x-python",
   "name": "python",
   "nbconvert_exporter": "python",
   "pygments_lexer": "ipython3",
   "version": "3.11.4"
  }
 },
 "nbformat": 4,
 "nbformat_minor": 5
}
