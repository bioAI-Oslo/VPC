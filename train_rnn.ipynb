{
 "cells": [
  {
   "cell_type": "code",
   "execution_count": 1,
   "id": "4a996003-8a02-4780-b283-614a14d4ee21",
   "metadata": {},
   "outputs": [],
   "source": [
    "import os\n",
    "import json\n",
    "import torch\n",
    "\n",
    "from models import VPC_RNN\n",
    "from train_tools import get_datasets, Logger, euclid\n",
    "\n",
    "import numpy as np\n",
    "import matplotlib.pyplot as plt\n",
    "from tqdm import tqdm"
   ]
  },
  {
   "cell_type": "code",
   "execution_count": 2,
   "id": "e3121abe-ee14-42c0-aaa9-9bb10fa1b58c",
   "metadata": {},
   "outputs": [],
   "source": [
    "model_type = \"RNN\"\n",
    "path = f\"./models/al1_10_l2_1\"\n",
    "spec_file = f\"{path}/model_parameters.json\"\n",
    "with open(spec_file, \"r\") as f:\n",
    "    params = json.load(f)"
   ]
  },
  {
   "cell_type": "code",
   "execution_count": 3,
   "id": "64322275-3f30-4fe8-9894-580e38b44903",
   "metadata": {},
   "outputs": [
    {
     "name": "stdout",
     "output_type": "stream",
     "text": [
      "Model Parameters: \n",
      " {\n",
      "     \"epochs\": 100,\n",
      "     \"batch_size\": 64,\n",
      "     \"lr\": 0.0001,\n",
      "     \"al1\": 10.0,\n",
      "     \"l2\": 1.0,\n",
      "     \"nodes\": 500,\n",
      "     \"outputs\": 100,\n",
      "     \"reset_interval\": 10,\n",
      "     \"context\": true\n",
      "}\n"
     ]
    }
   ],
   "source": [
    "print(\"Model Parameters: \\n\", json.dumps(params, indent = 5))"
   ]
  },
  {
   "cell_type": "code",
   "execution_count": 4,
   "id": "48bf6299-7702-46b0-97c2-2578049b033d",
   "metadata": {},
   "outputs": [],
   "source": [
    "model = VPC_RNN(params)\n",
    "logger = Logger(path)"
   ]
  },
  {
   "cell_type": "code",
   "execution_count": 5,
   "id": "c433c401-94c0-4e37-993e-7b373065c788",
   "metadata": {},
   "outputs": [],
   "source": [
    "def initial_state(step, g, reset_interval):\n",
    "        if (i % reset_interval) == 0:\n",
    "            g_prev = None\n",
    "        else:\n",
    "            g_prev = g[:,-1] # keep final timestep for statefulness\n",
    "        return g_prev"
   ]
  },
  {
   "cell_type": "code",
   "execution_count": 6,
   "id": "fe9f5046-7f9c-469f-9ced-ee80929b9469",
   "metadata": {},
   "outputs": [
    {
     "name": "stderr",
     "output_type": "stream",
     "text": [
      "100%|█████████████████████████████████████████| 100/100 [11:52<00:00,  7.13s/it]\n"
     ]
    }
   ],
   "source": [
    "train_loader, val_loader = get_datasets(\"datasets/trajectories\", context = params[\"context\"], device = model.device,\n",
    "                                        trajectories = True, batch_size = params[\"batch_size\"])\n",
    "\n",
    "for epoch in tqdm(range(params[\"epochs\"])):\n",
    "    # train step\n",
    "    g_prev = None\n",
    "    train_metrics = {\"loss\" : 0, \"euclid\" : 0}\n",
    "    for i, (x_train, y_train) in enumerate(train_loader):\n",
    "        inputs = (x_train, y_train)\n",
    "        loss, yhat, g = model.train_step(inputs, y_train, g_prev)\n",
    "        g_prev = initial_state(i, g, params[\"reset_interval\"])\n",
    "        train_metrics[\"loss\"] += loss.item()\n",
    "        train_metrics[\"euclid\"] += euclid(y_train, yhat).item()\n",
    "                      \n",
    "    train_metrics = {key:train_metrics[key]/len(train_loader) for key in train_metrics}\n",
    "    logger(train_metrics, \"train\")\n",
    "    \n",
    "    # validation step\n",
    "    g_prev = None\n",
    "    val_metrics = {\"loss\" : 0, \"euclid\" : 0}\n",
    "    for j, (x_val, y_val) in enumerate(val_loader):\n",
    "        inputs = (x_val, y_val)\n",
    "        loss, yhat, g = model.val_step(inputs, y_val, g_prev)\n",
    "        g_prev = initial_state(i, g, params[\"reset_interval\"])\n",
    "        val_metrics[\"loss\"] += loss.item()\n",
    "        val_metrics[\"euclid\"] += euclid(y_val, yhat).item()\n",
    "    val_metrics = {key:val_metrics[key]/len(val_loader) for key in val_metrics}\n",
    "    logger(val_metrics, \"val\")"
   ]
  },
  {
   "cell_type": "code",
   "execution_count": null,
   "id": "045b9f2e-6ba0-404a-bbce-b7df1ba55c43",
   "metadata": {},
   "outputs": [],
   "source": []
  },
  {
   "cell_type": "code",
   "execution_count": 7,
   "id": "0f69e472-85ed-4ee5-bc51-e92533a3668f",
   "metadata": {},
   "outputs": [],
   "source": [
    "torch.save(model, f\"{path}/trained_{model_type}_model\")\n",
    "logger.save_metrics(name = model_type)"
   ]
  },
  {
   "cell_type": "code",
   "execution_count": 8,
   "id": "f84c8211-4b2b-4cff-ab45-fb1013ca4269",
   "metadata": {},
   "outputs": [
    {
     "data": {
      "text/plain": [
       "[<matplotlib.lines.Line2D at 0x7fbdc80dc1c0>]"
      ]
     },
     "execution_count": 8,
     "metadata": {},
     "output_type": "execute_result"
    },
    {
     "data": {
      "image/png": "[encoded data removed]",
      "text/plain": [
       "<Figure size 432x288 with 1 Axes>"
      ]
     },
     "metadata": {
      "needs_background": "light"
     },
     "output_type": "display_data"
    }
   ],
   "source": [
    "plt.plot(logger.metrics[\"train_euclid\"])\n",
    "plt.plot(logger.metrics[\"val_euclid\"])"
   ]
  },
  {
   "cell_type": "code",
   "execution_count": null,
   "id": "30373e89-0155-4d9b-b10b-518dbf011a5f",
   "metadata": {},
   "outputs": [],
   "source": []
  }
 ],
 "metadata": {
  "kernelspec": {
   "display_name": "Python 3 (ipykernel)",
   "language": "python",
   "name": "python3"
  },
  "language_info": {
   "codemirror_mode": {
    "name": "ipython",
    "version": 3
   },
   "file_extension": ".py",
   "mimetype": "text/x-python",
   "name": "python",
   "nbconvert_exporter": "python",
   "pygments_lexer": "ipython3",
   "version": "3.9.9"
  }
 },
 "nbformat": 4,
 "nbformat_minor": 5
}
