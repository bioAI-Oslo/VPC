{
 "cells": [
  {
   "cell_type": "code",
   "execution_count": 1,
   "id": "4a996003-8a02-4780-b283-614a14d4ee21",
   "metadata": {},
   "outputs": [],
   "source": [
    "import os\n",
    "import json\n",
    "import torch\n",
    "\n",
    "from models import VPC_RNN\n",
    "from train_tools import get_datasets, Logger, euclid\n",
    "\n",
    "import numpy as np\n",
    "import matplotlib.pyplot as plt\n",
    "from tqdm import tqdm"
   ]
  },
  {
   "cell_type": "code",
   "execution_count": 2,
   "id": "e3121abe-ee14-42c0-aaa9-9bb10fa1b58c",
   "metadata": {},
   "outputs": [],
   "source": [
    "model_type = \"RNN\"\n",
    "path = f\"./models/al1_10_l2_0\"\n",
    "spec_file = f\"{path}/model_parameters.json\"\n",
    "with open(spec_file, \"r\") as f:\n",
    "    params = json.load(f)"
   ]
  },
  {
   "cell_type": "code",
   "execution_count": 3,
   "id": "64322275-3f30-4fe8-9894-580e38b44903",
   "metadata": {},
   "outputs": [
    {
     "name": "stdout",
     "output_type": "stream",
     "text": [
      "Model Parameters: \n",
      " {\n",
      "     \"epochs\": 100,\n",
      "     \"batch_size\": 64,\n",
      "     \"lr\": 0.0001,\n",
      "     \"al1\": 10.0,\n",
      "     \"l2\": 0,\n",
      "     \"nodes\": 500,\n",
      "     \"outputs\": 100,\n",
      "     \"reset_interval\": 10,\n",
      "     \"context\": true\n",
      "}\n"
     ]
    }
   ],
   "source": [
    "print(\"Model Parameters: \\n\", json.dumps(params, indent = 5))"
   ]
  },
  {
   "cell_type": "code",
   "execution_count": 4,
   "id": "48bf6299-7702-46b0-97c2-2578049b033d",
   "metadata": {},
   "outputs": [],
   "source": [
    "model = VPC_RNN(params)\n",
    "logger = Logger(path)"
   ]
  },
  {
   "cell_type": "code",
   "execution_count": 5,
   "id": "c433c401-94c0-4e37-993e-7b373065c788",
   "metadata": {},
   "outputs": [],
   "source": [
    "def initial_state(step, g, reset_interval):\n",
    "    if (i % reset_interval) == 0:\n",
    "        g_prev = None\n",
    "    else:\n",
    "        g_prev = g[:,-1].detach().clone() # persistent RNN state # keep final timestep for statefulness\n",
    "    return g_prev"
   ]
  },
  {
   "cell_type": "code",
   "execution_count": 6,
   "id": "fe9f5046-7f9c-469f-9ced-ee80929b9469",
   "metadata": {},
   "outputs": [
    {
     "name": "stderr",
     "output_type": "stream",
     "text": [
      "  0%|          | 0/100 [00:32<?, ?it/s]\n"
     ]
    },
    {
     "ename": "KeyboardInterrupt",
     "evalue": "",
     "output_type": "error",
     "traceback": [
      "\u001b[0;31m---------------------------------------------------------------------------\u001b[0m",
      "\u001b[0;31mKeyboardInterrupt\u001b[0m                         Traceback (most recent call last)",
      "Cell \u001b[0;32mIn[6], line 10\u001b[0m\n\u001b[1;32m      8\u001b[0m \u001b[38;5;28;01mfor\u001b[39;00m i, (x_train, y_train) \u001b[38;5;129;01min\u001b[39;00m \u001b[38;5;28menumerate\u001b[39m(train_loader):\n\u001b[1;32m      9\u001b[0m     inputs \u001b[38;5;241m=\u001b[39m (x_train, y_train)\n\u001b[0;32m---> 10\u001b[0m     loss, yhat, g \u001b[38;5;241m=\u001b[39m \u001b[43mmodel\u001b[49m\u001b[38;5;241;43m.\u001b[39;49m\u001b[43mtrain_step\u001b[49m\u001b[43m(\u001b[49m\u001b[43minputs\u001b[49m\u001b[43m,\u001b[49m\u001b[43m \u001b[49m\u001b[43my_train\u001b[49m\u001b[43m,\u001b[49m\u001b[43m \u001b[49m\u001b[43mg_prev\u001b[49m\u001b[43m)\u001b[49m\n\u001b[1;32m     11\u001b[0m     g_prev \u001b[38;5;241m=\u001b[39m initial_state(i\u001b[38;5;241m+\u001b[39m\u001b[38;5;241m1\u001b[39m, g, params[\u001b[38;5;124m\"\u001b[39m\u001b[38;5;124mreset_interval\u001b[39m\u001b[38;5;124m\"\u001b[39m])\n\u001b[1;32m     12\u001b[0m     train_metrics[\u001b[38;5;124m\"\u001b[39m\u001b[38;5;124mloss\u001b[39m\u001b[38;5;124m\"\u001b[39m] \u001b[38;5;241m+\u001b[39m\u001b[38;5;241m=\u001b[39m loss\u001b[38;5;241m.\u001b[39mitem()\n",
      "File \u001b[0;32m~/Documents/jobb/phd/VPC/models.py:85\u001b[0m, in \u001b[0;36mVPC_RNN.train_step\u001b[0;34m(self, x, y, g_prev)\u001b[0m\n\u001b[1;32m     82\u001b[0m loss \u001b[38;5;241m=\u001b[39m \u001b[38;5;28mself\u001b[39m\u001b[38;5;241m.\u001b[39mloss_fn(yhat, y) \u001b[38;5;241m+\u001b[39m weight_reg \u001b[38;5;241m+\u001b[39m activity_reg\n\u001b[1;32m     84\u001b[0m \u001b[38;5;66;03m# parameter update\u001b[39;00m\n\u001b[0;32m---> 85\u001b[0m \u001b[43mloss\u001b[49m\u001b[38;5;241;43m.\u001b[39;49m\u001b[43mbackward\u001b[49m\u001b[43m(\u001b[49m\u001b[43m)\u001b[49m\n\u001b[1;32m     86\u001b[0m \u001b[38;5;28mself\u001b[39m\u001b[38;5;241m.\u001b[39moptimizer\u001b[38;5;241m.\u001b[39mstep()\n\u001b[1;32m     87\u001b[0m \u001b[38;5;28;01mreturn\u001b[39;00m loss, yhat, g\n",
      "File \u001b[0;32m~/miniforge3/envs/ml/lib/python3.9/site-packages/torch/_tensor.py:488\u001b[0m, in \u001b[0;36mTensor.backward\u001b[0;34m(self, gradient, retain_graph, create_graph, inputs)\u001b[0m\n\u001b[1;32m    478\u001b[0m \u001b[38;5;28;01mif\u001b[39;00m has_torch_function_unary(\u001b[38;5;28mself\u001b[39m):\n\u001b[1;32m    479\u001b[0m     \u001b[38;5;28;01mreturn\u001b[39;00m handle_torch_function(\n\u001b[1;32m    480\u001b[0m         Tensor\u001b[38;5;241m.\u001b[39mbackward,\n\u001b[1;32m    481\u001b[0m         (\u001b[38;5;28mself\u001b[39m,),\n\u001b[0;32m   (...)\u001b[0m\n\u001b[1;32m    486\u001b[0m         inputs\u001b[38;5;241m=\u001b[39minputs,\n\u001b[1;32m    487\u001b[0m     )\n\u001b[0;32m--> 488\u001b[0m \u001b[43mtorch\u001b[49m\u001b[38;5;241;43m.\u001b[39;49m\u001b[43mautograd\u001b[49m\u001b[38;5;241;43m.\u001b[39;49m\u001b[43mbackward\u001b[49m\u001b[43m(\u001b[49m\n\u001b[1;32m    489\u001b[0m \u001b[43m    \u001b[49m\u001b[38;5;28;43mself\u001b[39;49m\u001b[43m,\u001b[49m\u001b[43m \u001b[49m\u001b[43mgradient\u001b[49m\u001b[43m,\u001b[49m\u001b[43m \u001b[49m\u001b[43mretain_graph\u001b[49m\u001b[43m,\u001b[49m\u001b[43m \u001b[49m\u001b[43mcreate_graph\u001b[49m\u001b[43m,\u001b[49m\u001b[43m \u001b[49m\u001b[43minputs\u001b[49m\u001b[38;5;241;43m=\u001b[39;49m\u001b[43minputs\u001b[49m\n\u001b[1;32m    490\u001b[0m \u001b[43m\u001b[49m\u001b[43m)\u001b[49m\n",
      "File \u001b[0;32m~/miniforge3/envs/ml/lib/python3.9/site-packages/torch/autograd/__init__.py:197\u001b[0m, in \u001b[0;36mbackward\u001b[0;34m(tensors, grad_tensors, retain_graph, create_graph, grad_variables, inputs)\u001b[0m\n\u001b[1;32m    192\u001b[0m     retain_graph \u001b[38;5;241m=\u001b[39m create_graph\n\u001b[1;32m    194\u001b[0m \u001b[38;5;66;03m# The reason we repeat same the comment below is that\u001b[39;00m\n\u001b[1;32m    195\u001b[0m \u001b[38;5;66;03m# some Python versions print out the first line of a multi-line function\u001b[39;00m\n\u001b[1;32m    196\u001b[0m \u001b[38;5;66;03m# calls in the traceback and some print out the last line\u001b[39;00m\n\u001b[0;32m--> 197\u001b[0m \u001b[43mVariable\u001b[49m\u001b[38;5;241;43m.\u001b[39;49m\u001b[43m_execution_engine\u001b[49m\u001b[38;5;241;43m.\u001b[39;49m\u001b[43mrun_backward\u001b[49m\u001b[43m(\u001b[49m\u001b[43m  \u001b[49m\u001b[38;5;66;43;03m# Calls into the C++ engine to run the backward pass\u001b[39;49;00m\n\u001b[1;32m    198\u001b[0m \u001b[43m    \u001b[49m\u001b[43mtensors\u001b[49m\u001b[43m,\u001b[49m\u001b[43m \u001b[49m\u001b[43mgrad_tensors_\u001b[49m\u001b[43m,\u001b[49m\u001b[43m \u001b[49m\u001b[43mretain_graph\u001b[49m\u001b[43m,\u001b[49m\u001b[43m \u001b[49m\u001b[43mcreate_graph\u001b[49m\u001b[43m,\u001b[49m\u001b[43m \u001b[49m\u001b[43minputs\u001b[49m\u001b[43m,\u001b[49m\n\u001b[1;32m    199\u001b[0m \u001b[43m    \u001b[49m\u001b[43mallow_unreachable\u001b[49m\u001b[38;5;241;43m=\u001b[39;49m\u001b[38;5;28;43;01mTrue\u001b[39;49;00m\u001b[43m,\u001b[49m\u001b[43m \u001b[49m\u001b[43maccumulate_grad\u001b[49m\u001b[38;5;241;43m=\u001b[39;49m\u001b[38;5;28;43;01mTrue\u001b[39;49;00m\u001b[43m)\u001b[49m\n",
      "\u001b[0;31mKeyboardInterrupt\u001b[0m: "
     ]
    }
   ],
   "source": [
    "train_loader, val_loader = get_datasets(\"datasets/trajectories\", context = params[\"context\"], device = model.device,\n",
    "                                        trajectories = True, batch_size = params[\"batch_size\"])\n",
    "\n",
    "for epoch in tqdm(range(params[\"epochs\"])):\n",
    "    # train step\n",
    "    g_prev = None\n",
    "    train_metrics = {\"loss\" : 0, \"euclid\" : 0}\n",
    "    for i, (x_train, y_train) in enumerate(train_loader):\n",
    "        inputs = (x_train, y_train)\n",
    "        loss, yhat, g = model.train_step(inputs, y_train, g_prev)\n",
    "        g_prev = initial_state(i+1, g, params[\"reset_interval\"])\n",
    "        train_metrics[\"loss\"] += loss.item()\n",
    "        train_metrics[\"euclid\"] += euclid(y_train, yhat).item()\n",
    "                      \n",
    "    train_metrics = {key:train_metrics[key]/len(train_loader) for key in train_metrics}\n",
    "    logger(train_metrics, \"train\")\n",
    "    \n",
    "    # validation step\n",
    "    val_metrics = {\"loss\" : 0, \"euclid\" : 0}\n",
    "    for j, (x_val, y_val) in enumerate(val_loader):\n",
    "\n",
    "        inputs = (x_val, y_val)\n",
    "        loss, yhat, g = model.val_step(inputs, y_val, g_prev)\n",
    "        g_prev = initial_state(j+1, g, params[\"reset_interval\"])\n",
    "\n",
    "        val_metrics[\"loss\"] += loss.item()\n",
    "        val_metrics[\"euclid\"] += euclid(y_val, yhat).item()\n",
    "    val_metrics = {key:val_metrics[key]/len(val_loader) for key in val_metrics}\n",
    "    logger(val_metrics, \"val\")"
   ]
  },
  {
   "cell_type": "code",
   "execution_count": null,
   "id": "045b9f2e-6ba0-404a-bbce-b7df1ba55c43",
   "metadata": {},
   "outputs": [],
   "source": []
  },
  {
   "cell_type": "code",
   "execution_count": null,
   "id": "0f69e472-85ed-4ee5-bc51-e92533a3668f",
   "metadata": {},
   "outputs": [],
   "source": [
    "torch.save(model, f\"{path}/trained_{model_type}_model\")\n",
    "logger.save_metrics(name = model_type)"
   ]
  },
  {
   "cell_type": "code",
   "execution_count": null,
   "id": "f84c8211-4b2b-4cff-ab45-fb1013ca4269",
   "metadata": {},
   "outputs": [],
   "source": [
    "plt.plot(logger.metrics[\"train_euclid\"])\n",
    "plt.plot(logger.metrics[\"val_euclid\"])"
   ]
  },
  {
   "cell_type": "code",
   "execution_count": null,
   "id": "30373e89-0155-4d9b-b10b-518dbf011a5f",
   "metadata": {},
   "outputs": [],
   "source": []
  }
 ],
 "metadata": {
  "kernelspec": {
   "display_name": "Python 3",
   "language": "python",
   "name": "python3"
  },
  "language_info": {
   "codemirror_mode": {
    "name": "ipython",
    "version": 3
   },
   "file_extension": ".py",
   "mimetype": "text/x-python",
   "name": "python",
   "nbconvert_exporter": "python",
   "pygments_lexer": "ipython3",
   "version": "3.9.16"
  }
 },
 "nbformat": 4,
 "nbformat_minor": 5
}
