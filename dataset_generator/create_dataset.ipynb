{
 "cells": [
  {
   "cell_type": "code",
   "execution_count": 1,
   "id": "3c3a616e-99e9-4e28-a434-104003b9ac36",
   "metadata": {},
   "outputs": [],
   "source": [
    "import os\n",
    "import numpy as np\n",
    "from environments import Environments\n",
    "from trajectory_generator import DataGenerator\n",
    "\n",
    "from tqdm import tqdm"
   ]
  },
  {
   "cell_type": "code",
   "execution_count": 2,
   "id": "15797b1a-293f-4283-9dea-45e1acbac17d",
   "metadata": {},
   "outputs": [],
   "source": [
    "# set up paths and save location\n",
    "\n",
    "trajectories = True\n",
    "\n",
    "if trajectories:\n",
    "    dataset_type = \"trajectories\"\n",
    "else:\n",
    "    dataset_type = \"points\"\n",
    "    \n",
    "loc = f\"../datasets/{dataset_type}/\" # default path for storing datasets\n",
    "\n",
    "if not os.path.isdir(loc):\n",
    "    os.makedirs(loc)"
   ]
  },
  {
   "cell_type": "code",
   "execution_count": 3,
   "id": "e8af8455-51ba-4e1f-9135-062422621c6f",
   "metadata": {},
   "outputs": [],
   "source": [
    "environments = Environments() # geometries\n",
    "data_generator = DataGenerator() # paths"
   ]
  },
  {
   "cell_type": "code",
   "execution_count": 4,
   "id": "b183d2d8-d94a-461d-889d-6ac916c166ac",
   "metadata": {},
   "outputs": [],
   "source": [
    "data_samples = 15000 # total number of samples\n",
    "\n",
    "if trajectories:\n",
    "    timesteps = 501\n",
    "else:\n",
    "    space_samples = 500 # more samples if few timesteps\n",
    "    \n",
    "# set dataset splits\n",
    "\n",
    "# 80:20 train test split\n",
    "total_samples = {}\n",
    "total_samples[\"train\"] = int(data_samples*0.8) \n",
    "total_samples[\"val\"] = int(data_samples*0.2)\n",
    "\n",
    "# number of samples in a given split\n",
    "split_samples = {split:total_samples[split]//len(environments) for split in total_samples}"
   ]
  },
  {
   "cell_type": "code",
   "execution_count": 5,
   "id": "065e06da-ea26-453e-b8a4-80e61598a4d7",
   "metadata": {},
   "outputs": [
    {
     "name": "stderr",
     "output_type": "stream",
     "text": [
      "100%|██████████████████████████████████████████████████████████████████████████████| 2/2 [07:45<00:00, 232.56s/it]\n"
     ]
    }
   ],
   "source": [
    "for split in tqdm(total_samples):\n",
    "    \n",
    "    if trajectories:\n",
    "        dataset = {\"r\" : [], \"v\": [], \"c\" : []}\n",
    "    else:\n",
    "        dataset = {\"r\" : [], \"c\" : []}\n",
    "        \n",
    "    for env in environments.envs:\n",
    "\n",
    "        if trajectories:\n",
    "            r, v = data_generator.generate_paths(split_samples[split], timesteps, environments.envs[env])\n",
    "            dataset[\"v\"].append(v)\n",
    "            r = r[:,1:] # skip initial position\n",
    "        else:\n",
    "            r = data_generator.generate_points(split_samples[split], space_samples, environments.envs[env])    \n",
    "        dataset[\"r\"].append(r)\n",
    "        # one-hot context signal\n",
    "        c = environments.encoding(env)*np.ones((split_samples[split], r.shape[1], len(environments)))\n",
    "        dataset[\"c\"].append(c)\n",
    "        \n",
    "\n",
    "    # convert to array\n",
    "    dataset = {key: np.concatenate(np.array(dataset[key]), dtype = \"float32\", axis = 0) for key in dataset}\n",
    "    # shuffle \n",
    "    shuffle_inds = np.random.choice(len(dataset[\"r\"]), size = len(dataset[\"r\"]), replace = False)\n",
    "    dataset = {key: dataset[key][shuffle_inds] for key in dataset }\n",
    "    np.savez(f\"{loc}{split}_dataset\", **dataset)"
   ]
  },
  {
   "cell_type": "code",
   "execution_count": null,
   "id": "15c42bfc-7964-4896-8daa-be3b66441f0d",
   "metadata": {},
   "outputs": [],
   "source": []
  }
 ],
 "metadata": {
  "kernelspec": {
   "display_name": "Python 3 (ipykernel)",
   "language": "python",
   "name": "python3"
  },
  "language_info": {
   "codemirror_mode": {
    "name": "ipython",
    "version": 3
   },
   "file_extension": ".py",
   "mimetype": "text/x-python",
   "name": "python",
   "nbconvert_exporter": "python",
   "pygments_lexer": "ipython3",
   "version": "3.9.9"
  },
  "vscode": {
   "interpreter": {
    "hash": "158bf1a15c4fcbb929163f5212278bc6479eee3a1438af15c35b95ec85568364"
   }
  }
 },
 "nbformat": 4,
 "nbformat_minor": 5
}
